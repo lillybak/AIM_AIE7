{
  "cells": [
    {
      "cell_type": "markdown",
      "metadata": {
        "id": "lElF3o5PR6ys"
      },
      "source": [
        "# Your First RAG Application\n",
        "\n",
        "In this notebook, we'll walk you through each of the components that are involved in a simple RAG application.\n",
        "\n",
        "We won't be leveraging any fancy tools, just the OpenAI Python SDK, Numpy, and some classic Python.\n",
        "\n",
        "> NOTE: This was done with Python 3.11.4.\n",
        "\n",
        "> NOTE: There might be [compatibility issues](https://github.com/wandb/wandb/issues/7683) if you're on NVIDIA driver >552.44 As an interim solution - you can rollback your drivers to the 552.44."
      ]
    },
    {
      "cell_type": "markdown",
      "metadata": {
        "id": "5CtcL8P8R6yt"
      },
      "source": [
        "## Table of Contents:\n",
        "\n",
        "- Task 1: Imports and Utilities\n",
        "- Task 2: Documents\n",
        "- Task 3: Embeddings and Vectors\n",
        "- Task 4: Prompts\n",
        "- Task 5: Retrieval Augmented Generation\n",
        "  - 🚧 Activity #1: Augment RAG"
      ]
    },
    {
      "cell_type": "markdown",
      "metadata": {
        "id": "1Dz6GYilR6yt"
      },
      "source": [
        "Let's look at a rather complicated looking visual representation of a basic RAG application.\n",
        "\n",
        "<img src=\"https://i.imgur.com/vD8b016.png\" />"
      ]
    },
    {
      "cell_type": "markdown",
      "metadata": {
        "id": "PjmC0KFtR6yt"
      },
      "source": [
        "## Task 1: Imports and Utility\n",
        "\n",
        "We're just doing some imports and enabling `async` to work within the Jupyter environment here, nothing too crazy!"
      ]
    },
    {
      "cell_type": "code",
      "execution_count": 1,
      "metadata": {
        "id": "Z1dyrG4hR6yt"
      },
      "outputs": [],
      "source": [
        "from aimakerspace.text_utils import TextFileLoader, CharacterTextSplitter\n",
        "from aimakerspace.vectordatabase import VectorDatabase\n",
        "import asyncio"
      ]
    },
    {
      "cell_type": "code",
      "execution_count": 2,
      "metadata": {
        "id": "9OrFZRnER6yt"
      },
      "outputs": [],
      "source": [
        "import nest_asyncio\n",
        "nest_asyncio.apply()"
      ]
    },
    {
      "cell_type": "markdown",
      "metadata": {
        "id": "M0jGnpQsR6yu"
      },
      "source": [
        "## Task 2: Documents\n",
        "\n",
        "We'll be concerning ourselves with this part of the flow in the following section:\n",
        "\n",
        "<img src=\"https://i.imgur.com/jTm9gjk.png\" />"
      ]
    },
    {
      "cell_type": "markdown",
      "metadata": {
        "id": "-SFPWvRUR6yu"
      },
      "source": [
        "### Loading Source Documents\n",
        "\n",
        "So, first things first, we need some documents to work with.\n",
        "\n",
        "While we could work directly with the `.txt` files (or whatever file-types you wanted to extend this to) we can instead do some batch processing of those documents at the beginning in order to store them in a more machine compatible format.\n",
        "\n",
        "In this case, we're going to parse our text file into a single document in memory.\n",
        "\n",
        "Let's look at the relevant bits of the `TextFileLoader` class:\n",
        "\n",
        "```python\n",
        "def load_file(self):\n",
        "        with open(self.path, \"r\", encoding=self.encoding) as f:\n",
        "            self.documents.append(f.read())\n",
        "```\n",
        "\n",
        "We're simply loading the document using the built in `open` method, and storing that output in our `self.documents` list.\n",
        "\n",
        "> NOTE: We're using blogs from PMarca (Marc Andreessen) as our sample data. This data is largely irrelevant as we want to focus on the mechanisms of RAG, which includes out data's shape and quality - but not specifically what the contents of the data are. \n"
      ]
    },
    {
      "cell_type": "code",
      "execution_count": 3,
      "metadata": {
        "colab": {
          "base_uri": "https://localhost:8080/"
        },
        "id": "Ia2sUEuGR6yu",
        "outputId": "84937ecc-c35f-4c4a-a4ab-9da72625954c"
      },
      "outputs": [
        {
          "data": {
            "text/plain": [
              "1"
            ]
          },
          "execution_count": 3,
          "metadata": {},
          "output_type": "execute_result"
        }
      ],
      "source": [
        "text_loader = TextFileLoader(\"data/PMarcaBlogs.txt\")\n",
        "documents = text_loader.load_documents()\n",
        "len(documents)"
      ]
    },
    {
      "cell_type": "code",
      "execution_count": 4,
      "metadata": {
        "colab": {
          "base_uri": "https://localhost:8080/"
        },
        "id": "bV-tj5WFR6yu",
        "outputId": "674eb315-1ff3-4597-bcf5-38ece0a812ac"
      },
      "outputs": [
        {
          "name": "stdout",
          "output_type": "stream",
          "text": [
            "\n",
            "The Pmarca Blog Archives\n",
            "(select posts from 2007-2009)\n",
            "Marc Andreessen\n",
            "copyright: Andreessen Horow\n"
          ]
        }
      ],
      "source": [
        "print(documents[0][:100])"
      ]
    },
    {
      "cell_type": "markdown",
      "metadata": {
        "id": "nHlTvCzYR6yu"
      },
      "source": [
        "### Splitting Text Into Chunks\n",
        "\n",
        "As we can see, there is one massive document.\n",
        "\n",
        "We'll want to chunk the document into smaller parts so it's easier to pass the most relevant snippets to the LLM.\n",
        "\n",
        "There is no fixed way to split/chunk documents - and you'll need to rely on some intuition as well as knowing your data *very* well in order to build the most robust system.\n",
        "\n",
        "For this toy example, we'll just split blindly on length.\n",
        "\n",
        ">There's an opportunity to clear up some terminology here, for this course we will be stick to the following:\n",
        ">\n",
        ">- \"source documents\" : The `.txt`, `.pdf`, `.html`, ..., files that make up the files and information we start with in its raw format\n",
        ">- \"document(s)\" : single (or more) text object(s)\n",
        ">- \"corpus\" : the combination of all of our documents"
      ]
    },
    {
      "cell_type": "markdown",
      "metadata": {
        "id": "2G6Voc0jR6yv"
      },
      "source": [
        "As you can imagine (though it's not specifically true in this toy example) the idea of splitting documents is to break them into managable sized chunks that retain the most relevant local context."
      ]
    },
    {
      "cell_type": "code",
      "execution_count": 5,
      "metadata": {
        "colab": {
          "base_uri": "https://localhost:8080/"
        },
        "id": "UMC4tsEmR6yv",
        "outputId": "08689c0b-57cd-4040-942a-8193e997f5cb"
      },
      "outputs": [
        {
          "data": {
            "text/plain": [
              "373"
            ]
          },
          "execution_count": 5,
          "metadata": {},
          "output_type": "execute_result"
        }
      ],
      "source": [
        "text_splitter = CharacterTextSplitter()\n",
        "split_documents = text_splitter.split_texts(documents)\n",
        "len(split_documents)"
      ]
    },
    {
      "cell_type": "markdown",
      "metadata": {
        "id": "W2wKT0WLR6yv"
      },
      "source": [
        "Let's take a look at some of the documents we've managed to split."
      ]
    },
    {
      "cell_type": "code",
      "execution_count": 6,
      "metadata": {
        "colab": {
          "base_uri": "https://localhost:8080/"
        },
        "id": "vcYMwWJoR6yv",
        "outputId": "20d69876-feca-4826-b4be-32915276987a"
      },
      "outputs": [
        {
          "data": {
            "text/plain": [
              "['\\ufeff\\nThe Pmarca Blog Archives\\n(select posts from 2007-2009)\\nMarc Andreessen\\ncopyright: Andreessen Horowitz\\ncover design: Jessica Hagy\\nproduced using: Pressbooks\\nContents\\nTHE PMARCA GUIDE TO STARTUPS\\nPart 1: Why not to do a startup 2\\nPart 2: When the VCs say \"no\" 10\\nPart 3: \"But I don\\'t know any VCs!\" 18\\nPart 4: The only thing that matters 25\\nPart 5: The Moby Dick theory of big companies 33\\nPart 6: How much funding is too little? Too much? 41\\nPart 7: Why a startup\\'s initial business plan doesn\\'t\\nmatter that much\\n49\\nTHE PMARCA GUIDE TO HIRING\\nPart 8: Hiring, managing, promoting, and Dring\\nexecutives\\n54\\nPart 9: How to hire a professional CEO 68\\nHow to hire the best people you\\'ve ever worked\\nwith\\n69\\nTHE PMARCA GUIDE TO BIG COMPANIES\\nPart 1: Turnaround! 82\\nPart 2: Retaining great people 86\\nTHE PMARCA GUIDE TO CAREER, PRODUCTIVITY,\\nAND SOME OTHER THINGS\\nIntroduction 97\\nPart 1: Opportunity 99\\nPart 2: Skills and education 107\\nPart 3: Where to go and why 120\\nThe Pmarca Guide to Personal Productivi']"
            ]
          },
          "execution_count": 6,
          "metadata": {},
          "output_type": "execute_result"
        }
      ],
      "source": [
        "split_documents[0:1]"
      ]
    },
    {
      "cell_type": "markdown",
      "metadata": {
        "id": "HOU-RFP_R6yv"
      },
      "source": [
        "## Task 3: Embeddings and Vectors\n",
        "\n",
        "Next, we have to convert our corpus into a \"machine readable\" format as we explored in the Embedding Primer notebook.\n",
        "\n",
        "Today, we're going to talk about the actual process of creating, and then storing, these embeddings, and how we can leverage that to intelligently add context to our queries."
      ]
    },
    {
      "cell_type": "markdown",
      "metadata": {},
      "source": [
        "### OpenAI API Key\n",
        "\n",
        "In order to access OpenAI's APIs, we'll need to provide our OpenAI API Key!\n",
        "\n",
        "You can work through the folder \"OpenAI API Key Setup\" for more information on this process if you don't already have an API Key!"
      ]
    },
    {
      "cell_type": "code",
      "execution_count": 7,
      "metadata": {},
      "outputs": [],
      "source": [
        "import os\n",
        "import openai\n",
        "# from getpass import getpass\n",
        "from dotenv import load_dotenv\n",
        "\n",
        "load_dotenv()\n",
        "openai.api_key = os.getenv(\"OPENAI_API_KEY\")\n",
        "# openai.api_key = getpass(\"OpenAI API Key: \")\n",
        "# os.environ[\"OPENAI_API_KEY\"] = openai.api_key"
      ]
    },
    {
      "cell_type": "markdown",
      "metadata": {},
      "source": [
        "### Vector Database\n",
        "\n",
        "Let's set up our vector database to hold all our documents and their embeddings!"
      ]
    },
    {
      "cell_type": "markdown",
      "metadata": {
        "id": "kDQrfAR1R6yv"
      },
      "source": [
        "While this is all baked into 1 call - we can look at some of the code that powers this process to get a better understanding:\n",
        "\n",
        "Let's look at our `VectorDatabase().__init__()`:\n",
        "\n",
        "```python\n",
        "def __init__(self, embedding_model: EmbeddingModel = None):\n",
        "        self.vectors = defaultdict(np.array)\n",
        "        self.embedding_model = embedding_model or EmbeddingModel()\n",
        "```\n",
        "\n",
        "As you can see - our vectors are merely stored as a dictionary of `np.array` objects.\n",
        "\n",
        "Secondly, our `VectorDatabase()` has a default `EmbeddingModel()` which is a wrapper for OpenAI's `text-embedding-3-small` model.\n",
        "\n",
        "> **Quick Info About `text-embedding-3-small`**:\n",
        "> - It has a context window of **8191** tokens\n",
        "> - It returns vectors with dimension **1536**"
      ]
    },
    {
      "cell_type": "markdown",
      "metadata": {
        "id": "L273pRdeR6yv"
      },
      "source": [
        "#### ❓Question #1:\n",
        "\n",
        "The default embedding dimension of `text-embedding-3-small` is 1536, as noted above. \n",
        "\n",
        "1. Is there any way to modify this dimension?\n",
        "2. What technique does OpenAI use to achieve this?\n",
        "\n",
        "> NOTE: Check out this [API documentation](https://platform.openai.com/docs/api-reference/embeddings/create) for the answer to question #1, and [this documentation](https://platform.openai.com/docs/guides/embeddings/use-cases) for an answer to question #2!"
      ]
    },
    {
      "cell_type": "markdown",
      "metadata": {},
      "source": [
        "##### ❗Answer #1❗\n",
        "The text-embedding-3-small one can modify the dimensions with the `dimensions` parameter but it only permits one smaller choise, 512.  \n",
        "\n",
        "Parameter `dimensions` could be added in the following method of the EmbeddingModel():\n",
        "async def process_batch(batch):\n",
        "            embedding_response = await self.async_client.embeddings.create(\n",
        "                input=batch, model=self.embeddings_model_name, dimensions = 512)\n",
        "                aget_embeddings(list_of_text=list_of_text, engine=self.embeddings_model_name, dimensions=512)"
      ]
    },
    {
      "cell_type": "markdown",
      "metadata": {
        "id": "w5FZY7K3R6yv"
      },
      "source": [
        "We can call the `async_get_embeddings` method of our `EmbeddingModel()` on a list of `str` and receive a list of `float` back!\n",
        "\n",
        "```python\n",
        "async def async_get_embeddings(self, list_of_text: List[str]) -> List[List[float]]:\n",
        "        return await aget_embeddings(\n",
        "            list_of_text=list_of_text, engine=self.embeddings_model_name\n",
        "        )\n",
        "```"
      ]
    },
    {
      "cell_type": "markdown",
      "metadata": {
        "id": "cSct6X0aR6yv"
      },
      "source": [
        "We cast those to `np.array` when we build our `VectorDatabase()`:\n",
        "\n",
        "```python\n",
        "async def abuild_from_list(self, list_of_text: List[str]) -> \"VectorDatabase\":\n",
        "        embeddings = await self.embedding_model.async_get_embeddings(list_of_text)\n",
        "        for text, embedding in zip(list_of_text, embeddings):\n",
        "            self.insert(text, np.array(embedding))\n",
        "        return self\n",
        "```\n",
        "\n",
        "And that's all we need to do!"
      ]
    },
    {
      "cell_type": "code",
      "execution_count": 20,
      "metadata": {
        "id": "O4KoLbVDR6yv"
      },
      "outputs": [],
      "source": [
        "vector_db = VectorDatabase()\n",
        "vector_db = asyncio.run(vector_db.abuild_from_list(split_documents))"
      ]
    },
    {
      "cell_type": "markdown",
      "metadata": {
        "id": "SSZwaGvpR6yv"
      },
      "source": []
    },
    {
      "cell_type": "markdown",
      "metadata": {},
      "source": [
        "#### ❓Question #2:\n",
        "\n",
        "What are the benefits of using an `async` approach to collecting our embeddings?\n",
        "\n",
        "> NOTE: Determining the core difference between `async` and `sync` will be useful! If you get stuck - ask ChatGPT!\n",
        "#### ❗ANSWER #2❗\n",
        "`sync`: synchronous: tasks executed one at a time, in order. Next task is blocked until previous completes.  \n",
        "\n",
        "`async`: asynchronous: tasks can run in background. Program does other tasks while waiting. Requires event loop (asyncio in Python). \n",
        "Best for I/O-bound.   \n",
        "\n",
        "**Benefits:**  \n",
        " 1. Faster \n",
        " 2. Efficient: Uses CPU,GPU, and network more efficiently while waiting \n",
        "3. Scalable: Handles large text lists \n",
        "4. Keeps UI or other logic responsive  "
      ]
    },
    {
      "cell_type": "markdown",
      "metadata": {
        "id": "nRBdIt-xR6yw"
      },
      "source": [
        "So, to review what we've done so far in natural language:\n",
        "\n",
        "1. We load source documents\n",
        "2. We split those source documents into smaller chunks (documents)\n",
        "3. We send each of those documents to the `text-embedding-3-small` OpenAI API endpoint\n",
        "4. We store each of the text representations with the vector representations as keys/values in a dictionary"
      ]
    },
    {
      "cell_type": "markdown",
      "metadata": {
        "id": "4-vWANZyR6yw"
      },
      "source": [
        "### Semantic Similarity\n",
        "\n",
        "The next step is to be able to query our `VectorDatabase()` with a `str` and have it return to us vectors and text that is most relevant from our corpus.\n",
        "\n",
        "We're going to use the following process to achieve this in our toy example:\n",
        "\n",
        "1. We need to embed our query with the same `EmbeddingModel()` as we used to construct our `VectorDatabase()`\n",
        "2. We loop through every vector in our `VectorDatabase()` and use a distance measure to compare how related they are\n",
        "3. We return a list of the top `k` closest vectors, with their text representations\n",
        "\n",
        "There's some very heavy optimization that can be done at each of these steps - but let's just focus on the basic pattern in this notebook.\n",
        "\n",
        "> We are using [cosine similarity](https://www.engati.com/glossary/cosine-similarity) as a distance metric in this example - but there are many many distance metrics you could use - like [these](https://flavien-vidal.medium.com/similarity-distances-for-natural-language-processing-16f63cd5ba55)\n",
        "\n",
        "> We are using a rather inefficient way of calculating relative distance between the query vector and all other vectors - there are more advanced approaches that are much more efficient, like [ANN](https://towardsdatascience.com/comprehensive-guide-to-approximate-nearest-neighbors-algorithms-8b94f057d6b6)"
      ]
    },
    {
      "cell_type": "code",
      "execution_count": 21,
      "metadata": {
        "colab": {
          "base_uri": "https://localhost:8080/"
        },
        "id": "76d96uavR6yw",
        "outputId": "bbfccc31-20a2-41c7-c14d-46554a43ed2d"
      },
      "outputs": [
        {
          "data": {
            "text/plain": [
              "[('ordingly.\\nSeventh, when hiring the executive to run your former specialty, be\\ncareful you don’t hire someone weak on purpose.\\nThis sounds silly, but you wouldn’t believe how oaen it happens.\\nThe CEO who used to be a product manager who has a weak\\nproduct management executive. The CEO who used to be in\\nsales who has a weak sales executive. The CEO who used to be\\nin marketing who has a weak marketing executive.\\nI call this the “Michael Eisner Memorial Weak Executive Problem” — aaer the CEO of Disney who had previously been a brilliant TV network executive. When he bought ABC at Disney, it\\npromptly fell to fourth place. His response? “If I had an extra\\ntwo days a week, I could turn around ABC myself.” Well, guess\\nwhat, he didn’t have an extra two days a week.\\nA CEO — or a startup founder — oaen has a hard time letting\\ngo of the function that brought him to the party. The result: you\\nhire someone weak into the executive role for that function so\\nthat you can continue to be “the man” — cons',\n",
              "  np.float64(0.6537870351453311)),\n",
              " ('m. They have areas where they are truly deXcient in judgment or skill set. That’s just life. Almost nobody is brilliant\\nat everything. When hiring and when Hring executives, you\\nmust therefore focus on strength rather than lack of weakness. Everybody has severe weaknesses even if you can’t see\\nthem yet. When managing, it’s oaen useful to micromanage and\\nto provide remedial training around these weaknesses. Doing so\\nmay make the diWerence between an executive succeeding or\\nfailing.\\nFor example, you might have a brilliant engineering executive\\nwho generates excellent team loyalty, has terriXc product judgment and makes the trains run on time. This same executive\\nmay be very poor at relating to the other functions in the company. She may generate far more than her share of cross-functional conYicts, cut herself oW from critical information, and\\nsigniXcantly impede your ability to sell and market eWectively.\\nYour alternatives are:\\n(a) Macro-manage and give her an annual or quarterly object',\n",
              "  np.float64(0.5035194085948302)),\n",
              " ('ed?\\nIn reality — as opposed to Marc’s warped view of reality — it will\\nbe extremely helpful for Marc [if he were actually the CEO,\\nwhich he is not] to meet with the new head of engineering daily\\nwhen she comes on board and review all of her thinking and\\ndecisions. This level of micromanagement will accelerate her\\ntraining and improve her long-term eWectiveness. It will make\\nher seem smarter to the rest of the organization which will build\\ncredibility and conXdence while she comes up to speed. Micromanaging new executives is generally a good idea for a limited\\nperiod of time.\\nHowever, that is not the only time that it makes sense to micro66 The Pmarca Blog Archives\\nmanage executives. It turns out that just about every executive\\nin the world has a few things that are seriously wrong with\\nthem. They have areas where they are truly deXcient in judgment or skill set. That’s just life. Almost nobody is brilliant\\nat everything. When hiring and when Hring executives, you\\nmust therefore focus o',\n",
              "  np.float64(0.48138340892280873))]"
            ]
          },
          "execution_count": 21,
          "metadata": {},
          "output_type": "execute_result"
        }
      ],
      "source": [
        "vector_db.search_by_text(\"What is the Michael Eisner Memorial Weak Executive Problem?\", k=3)"
      ]
    },
    {
      "cell_type": "markdown",
      "metadata": {
        "id": "TehsfIiKR6yw"
      },
      "source": [
        "## Task 4: Prompts\n",
        "\n",
        "In the following section, we'll be looking at the role of prompts - and how they help us to guide our application in the right direction.\n",
        "\n",
        "In this notebook, we're going to rely on the idea of \"zero-shot in-context learning\".\n",
        "\n",
        "This is a lot of words to say: \"We will ask it to perform our desired task in the prompt, and provide no examples.\""
      ]
    },
    {
      "cell_type": "markdown",
      "metadata": {
        "id": "yXpA0UveR6yw"
      },
      "source": [
        "### XYZRolePrompt\n",
        "\n",
        "Before we do that, let's stop and think a bit about how OpenAI's chat models work.\n",
        "\n",
        "We know they have roles - as is indicated in the following API [documentation](https://platform.openai.com/docs/api-reference/chat/create#chat/create-messages)\n",
        "\n",
        "There are three roles, and they function as follows (taken directly from [OpenAI](https://platform.openai.com/docs/guides/gpt/chat-completions-api)):\n",
        "\n",
        "- `{\"role\" : \"system\"}` : The system message helps set the behavior of the assistant. For example, you can modify the personality of the assistant or provide specific instructions about how it should behave throughout the conversation. However note that the system message is optional and the model’s behavior without a system message is likely to be similar to using a generic message such as \"You are a helpful assistant.\"\n",
        "- `{\"role\" : \"user\"}` : The user messages provide requests or comments for the assistant to respond to.\n",
        "- `{\"role\" : \"assistant\"}` : Assistant messages store previous assistant responses, but can also be written by you to give examples of desired behavior.\n",
        "\n",
        "The main idea is this:\n",
        "\n",
        "1. You start with a system message that outlines how the LLM should respond, what kind of behaviours you can expect from it, and more\n",
        "2. Then, you can provide a few examples in the form of \"assistant\"/\"user\" pairs\n",
        "3. Then, you prompt the model with the true \"user\" message.\n",
        "\n",
        "In this example, we'll be forgoing the 2nd step for simplicities sake."
      ]
    },
    {
      "cell_type": "markdown",
      "metadata": {
        "id": "gdZ2KWKSR6yw"
      },
      "source": [
        "#### Utility Functions\n",
        "\n",
        "You'll notice that we're using some utility functions from the `aimakerspace` module - let's take a peek at these and see what they're doing!"
      ]
    },
    {
      "cell_type": "markdown",
      "metadata": {
        "id": "GFbeJDDsR6yw"
      },
      "source": [
        "##### XYZRolePrompt"
      ]
    },
    {
      "cell_type": "markdown",
      "metadata": {
        "id": "5mojJSE3R6yw"
      },
      "source": [
        "Here we have our `system`, `user`, and `assistant` role prompts.\n",
        "\n",
        "Let's take a peek at what they look like:\n",
        "\n",
        "```python\n",
        "class BasePrompt:\n",
        "    def __init__(self, prompt):\n",
        "        \"\"\"\n",
        "        Initializes the BasePrompt object with a prompt template.\n",
        "\n",
        "        :param prompt: A string that can contain placeholders within curly braces\n",
        "        \"\"\"\n",
        "        self.prompt = prompt\n",
        "        self._pattern = re.compile(r\"\\{([^}]+)\\}\")\n",
        "\n",
        "    def format_prompt(self, **kwargs):\n",
        "        \"\"\"\n",
        "        Formats the prompt string using the keyword arguments provided.\n",
        "\n",
        "        :param kwargs: The values to substitute into the prompt string\n",
        "        :return: The formatted prompt string\n",
        "        \"\"\"\n",
        "        matches = self._pattern.findall(self.prompt)\n",
        "        return self.prompt.format(**{match: kwargs.get(match, \"\") for match in matches})\n",
        "\n",
        "    def get_input_variables(self):\n",
        "        \"\"\"\n",
        "        Gets the list of input variable names from the prompt string.\n",
        "\n",
        "        :return: List of input variable names\n",
        "        \"\"\"\n",
        "        return self._pattern.findall(self.prompt)\n",
        "```\n",
        "\n",
        "Then we have our `RolePrompt` which laser focuses us on the role pattern found in most API endpoints for LLMs.\n",
        "\n",
        "```python\n",
        "class RolePrompt(BasePrompt):\n",
        "    def __init__(self, prompt, role: str):\n",
        "        \"\"\"\n",
        "        Initializes the RolePrompt object with a prompt template and a role.\n",
        "\n",
        "        :param prompt: A string that can contain placeholders within curly braces\n",
        "        :param role: The role for the message ('system', 'user', or 'assistant')\n",
        "        \"\"\"\n",
        "        super().__init__(prompt)\n",
        "        self.role = role\n",
        "\n",
        "    def create_message(self, **kwargs):\n",
        "        \"\"\"\n",
        "        Creates a message dictionary with a role and a formatted message.\n",
        "\n",
        "        :param kwargs: The values to substitute into the prompt string\n",
        "        :return: Dictionary containing the role and the formatted message\n",
        "        \"\"\"\n",
        "        return {\"role\": self.role, \"content\": self.format_prompt(**kwargs)}\n",
        "```\n",
        "\n",
        "We'll look at how the `SystemRolePrompt` is constructed to get a better idea of how that extension works:\n",
        "\n",
        "```python\n",
        "class SystemRolePrompt(RolePrompt):\n",
        "    def __init__(self, prompt: str):\n",
        "        super().__init__(prompt, \"system\")\n",
        "```\n",
        "\n",
        "That pattern is repeated for our `UserRolePrompt` and our `AssistantRolePrompt` as well."
      ]
    },
    {
      "cell_type": "markdown",
      "metadata": {
        "id": "D361R6sMR6yw"
      },
      "source": [
        "##### ChatOpenAI"
      ]
    },
    {
      "cell_type": "markdown",
      "metadata": {
        "id": "HJVQ2Pm8R6yw"
      },
      "source": [
        "Next we have our model, which is converted to a format analagous to libraries like LangChain and LlamaIndex.\n",
        "\n",
        "Let's take a peek at how that is constructed:\n",
        "\n",
        "```python\n",
        "class ChatOpenAI:\n",
        "    def __init__(self, model_name: str = \"gpt-4o-mini\"):\n",
        "        self.model_name = model_name\n",
        "        self.openai_api_key = os.getenv(\"OPENAI_API_KEY\")\n",
        "        if self.openai_api_key is None:\n",
        "            raise ValueError(\"OPENAI_API_KEY is not set\")\n",
        "\n",
        "    def run(self, messages, text_only: bool = True):\n",
        "        if not isinstance(messages, list):\n",
        "            raise ValueError(\"messages must be a list\")\n",
        "\n",
        "        openai.api_key = self.openai_api_key\n",
        "        response = openai.ChatCompletion.create(\n",
        "            model=self.model_name, messages=messages\n",
        "        )\n",
        "\n",
        "        if text_only:\n",
        "            return response.choices[0].message.content\n",
        "\n",
        "        return response\n",
        "```"
      ]
    },
    {
      "cell_type": "markdown",
      "metadata": {
        "id": "qCU7FfhIR6yw"
      },
      "source": [
        "#### ❓ Question #3:\n",
        "\n",
        "When calling the OpenAI API - are there any ways we can achieve more reproducible outputs?\n",
        "\n",
        "> NOTE: Check out [this section](https://platform.openai.com/docs/guides/text-generation/) of the OpenAI documentation for the answer!"
      ]
    },
    {
      "cell_type": "markdown",
      "metadata": {},
      "source": [
        "##### ! ANSWER #3 !\n",
        "1. Specify the exact model, and use same unchanged model every time. i.e. a \"static model snapshot\"\n",
        "2. Set the temperature to 0\n",
        "3. Use seed parameter when supported   \n",
        "4. Iterate on the prompt   \n",
        "Example:\n",
        "* Pin production applications to specific model snapshots (like gpt-4.1-2025-04-14 for example) to ensure consistent behavior.\n",
        "* Build evals that will measure the behavior of the prompts, so that the performance of the prompts can be monitored while iterating on them"
      ]
    },
    {
      "cell_type": "markdown",
      "metadata": {
        "id": "c5wcjMLCR6yw"
      },
      "source": [
        "### Creating and Prompting OpenAI's `gpt-4o-mini`!\n",
        "\n",
        "Let's tie all these together and use it to prompt `gpt-4o-mini`!"
      ]
    },
    {
      "cell_type": "code",
      "execution_count": 28,
      "metadata": {
        "id": "WIfpIot7R6yw"
      },
      "outputs": [],
      "source": [
        "from aimakerspace.openai_utils.prompts import (\n",
        "    UserRolePrompt,\n",
        "    SystemRolePrompt,\n",
        "    #AssistantRolePrompt, # not used\n",
        ")\n",
        "\n",
        "from aimakerspace.openai_utils.chatmodel import ChatOpenAI\n",
        "\n",
        "chat_openai = ChatOpenAI()\n",
        "user_prompt_template = \"{content}\"\n",
        "user_role_prompt = UserRolePrompt(user_prompt_template)\n",
        "system_prompt_template = (\n",
        "    \"You are an expert in {expertise}, you always answer in a kind way.\"\n",
        ")\n",
        "system_role_prompt = SystemRolePrompt(system_prompt_template)\n",
        "\n",
        "messages = [\n",
        "    system_role_prompt.create_message(expertise=\"Python\"),\n",
        "    user_role_prompt.create_message(\n",
        "        content=\"What is the best way to write a loop?\"\n",
        "    ),\n",
        "]\n",
        "\n",
        "response = chat_openai.run(messages)"
      ]
    },
    {
      "cell_type": "markdown",
      "metadata": {},
      "source": [
        "Chris's output:   \n",
        "\n",
        "The best way to write a loop in Python depends on the specific task you're trying to accomplish and the type of data you're working with. Here are some common patterns for writing loops, along with best practices:\n",
        "\n",
        "### 1. Using a `for` loop\n",
        "\n",
        "The `for` loop is often preferred for iterating over sequences like lists, tuples, strings, and dictionaries. Here's a simple example:\n",
        "\n",
        "```python\n",
        "fruits = [\"apple\", \"banana\", \"cherry\"]\n",
        "\n",
        "for fruit in fruits:\n",
        "    print(fruit)\n",
        "```\n",
        "\n",
        "**Best Practices:**\n",
        "- Use `for` loops when you know the number of iterations or when iterating over a collection.\n",
        "- Keep the loop's body simple for readability.\n",
        "\n",
        "### 2. Using a `while` loop\n",
        "\n",
        "A `while` loop is useful when the number of iterations isn't predetermined. Here's an example:\n",
        "\n",
        "```python\n",
        "count = 0\n"
      ]
    },
    {
      "cell_type": "code",
      "execution_count": 23,
      "metadata": {
        "colab": {
          "base_uri": "https://localhost:8080/"
        },
        "id": "dHo7lssNR6yw",
        "outputId": "1d3823fa-bb6b-45f6-ddba-b41686388324"
      },
      "outputs": [
        {
          "name": "stdout",
          "output_type": "stream",
          "text": [
            "The \"best\" way to write a loop in Python can depend on your specific use case, but here are some general guidelines and examples to help you write efficient and readable loops.\n",
            "\n",
            "### Using `for` loops\n",
            "\n",
            "`for` loops are generally preferred when you know the number of iterations in advance or when iterating over a sequence.\n",
            "\n",
            "**Example: Iterating over a list**\n",
            "\n",
            "```python\n",
            "fruits = ['apple', 'banana', 'cherry']\n",
            "for fruit in fruits:\n",
            "    print(fruit)\n",
            "```\n",
            "\n",
            "### Using `while` loops\n",
            "\n",
            "`while` loops are useful when the number of iterations isn’t predetermined and depends on a condition.\n",
            "\n",
            "**Example: Using a `while` loop**\n",
            "\n",
            "```python\n",
            "count = 0\n",
            "while count < 5:\n",
            "    print(count)\n",
            "    count += 1\n",
            "```\n",
            "\n",
            "### Using `enumerate`\n",
            "\n",
            "If you need access to both the index and the value while iterating over a list, consider using `enumerate`.\n",
            "\n",
            "**Example: Using `enumerate`**\n",
            "\n",
            "```python\n",
            "fruits = ['apple', 'banana', 'cherry']\n",
            "for index, fruit in enumerate(fruits):\n",
            "    print(f\"{index}: {fruit}\")\n",
            "```\n",
            "\n",
            "### Using List Comprehensions\n",
            "\n",
            "For more concise looping, especially when generating a new list, you can use list comprehensions.\n",
            "\n",
            "**Example: List comprehension**\n",
            "\n",
            "```python\n",
            "squares = [x**2 for x in range(10)]\n",
            "print(squares)\n",
            "```\n",
            "\n",
            "### Breaking out of loops\n",
            "\n",
            "You can use `break` to exit a loop prematurely, and `continue` to skip an iteration.\n",
            "\n",
            "**Example with `break` and `continue`**\n",
            "\n",
            "```python\n",
            "for num in range(10):\n",
            "    if num == 5:\n",
            "        break  # exit the loop when num is 5\n",
            "    if num % 2 == 0:\n",
            "        continue  # skip even numbers\n",
            "    print(num)  # prints odd numbers less than 5\n",
            "```\n",
            "\n",
            "### Tips for Loop Writing\n",
            "\n",
            "1. **Keep It Simple**: Ensure your loop is easy to read and understand.\n",
            "2. **Avoid Nested Loops**: Try to minimize nested loops as they can complicate the code and reduce performance.\n",
            "3. **Use Built-in Functions**: Functions like `map()`, `filter()`, and `reduce()` can sometimes eliminate the need for explicit loops.\n",
            "4. **Profile Your Code**: If performance is critical, use tools like `timeit` to measure execution time.\n",
            "\n",
            "### Conclusion\n",
            "\n",
            "Ultimately, the best way to write a loop depends on your specific situation and requirements. Strive for clear, readable, and efficient code, and don’t hesitate to ask if you need help with something specific!\n"
          ]
        }
      ],
      "source": [
        "print(response)"
      ]
    },
    {
      "cell_type": "markdown",
      "metadata": {
        "id": "r2nxxhB2R6yy"
      },
      "source": [
        "## Task 5: Retrieval Augmented Generation\n",
        "\n",
        "Now we can create a RAG prompt - which will help our system behave in a way that makes sense!\n",
        "\n",
        "There is much you could do here, many tweaks and improvements to be made!"
      ]
    },
    {
      "cell_type": "code",
      "execution_count": 29,
      "metadata": {
        "id": "D1hamzGaR6yy"
      },
      "outputs": [],
      "source": [
        "RAG_SYSTEM_TEMPLATE = \"\"\"You are a knowledgeable assistant that answers questions based strictly on provided context.\n",
        "\n",
        "Instructions:\n",
        "- Only answer questions using information from the provided context\n",
        "- If the context doesn't contain relevant information, respond with \"I don't know\"\n",
        "- Be accurate and cite specific parts of the context when possible\n",
        "- Keep responses {response_style} and {response_length}\n",
        "- Only use the provided context. Do not use external knowledge.\n",
        "- Only provide answers when you are confident the context supports your response.\"\"\"\n",
        "\n",
        "RAG_USER_TEMPLATE = \"\"\"Context Information:\n",
        "{context}\n",
        "\n",
        "Number of relevant sources found: {context_count}\n",
        "{similarity_scores}\n",
        "\n",
        "Question: {user_query}\n",
        "\n",
        "Please provide your answer based solely on the context above.\"\"\"\n",
        "\n",
        "rag_system_prompt = SystemRolePrompt(\n",
        "    RAG_SYSTEM_TEMPLATE,\n",
        "    strict=True,\n",
        "    defaults={\n",
        "        \"response_style\": \"concise\",\n",
        "        \"response_length\": \"brief\"\n",
        "    }\n",
        ")\n",
        "\n",
        "rag_user_prompt = UserRolePrompt(\n",
        "    RAG_USER_TEMPLATE,\n",
        "    strict=True,\n",
        "    defaults={\n",
        "        \"context_count\": \"\",\n",
        "        \"similarity_scores\": \"\"\n",
        "    }\n",
        ")"
      ]
    },
    {
      "cell_type": "markdown",
      "metadata": {},
      "source": [
        "Now we can create our pipeline!"
      ]
    },
    {
      "cell_type": "code",
      "execution_count": 31,
      "metadata": {},
      "outputs": [],
      "source": [
        "class RetrievalAugmentedQAPipeline:\n",
        "    def __init__(self, llm: ChatOpenAI, vector_db_retriever: VectorDatabase, \n",
        "                 response_style: str = \"detailed\", include_scores: bool = False) -> None:\n",
        "        self.llm = llm\n",
        "        self.vector_db_retriever = vector_db_retriever\n",
        "        self.response_style = response_style\n",
        "        self.include_scores = include_scores\n",
        "\n",
        "    def run_pipeline(self, user_query: str, k: int = 4, **system_kwargs) -> dict:\n",
        "        # Retrieve relevant contexts\n",
        "        context_list = self.vector_db_retriever.search_by_text(user_query, k=k)\n",
        "        \n",
        "        context_prompt = \"\"\n",
        "        similarity_scores = []\n",
        "        \n",
        "        for i, (context, score) in enumerate(context_list, 1):\n",
        "            context_prompt += f\"[Source {i}]: {context}\\n\\n\"\n",
        "            similarity_scores.append(f\"Source {i}: {score:.3f}\")\n",
        "        \n",
        "        # Create system message with parameters\n",
        "        system_params = {\n",
        "            \"response_style\": self.response_style,\n",
        "            \"response_length\": system_kwargs.get(\"response_length\", \"detailed\")\n",
        "        }\n",
        "        \n",
        "        formatted_system_prompt = rag_system_prompt.create_message(**system_params)\n",
        "        \n",
        "        user_params = {\n",
        "            \"user_query\": user_query,\n",
        "            \"context\": context_prompt.strip(),\n",
        "            \"context_count\": len(context_list),\n",
        "            \"similarity_scores\": f\"Relevance scores: {', '.join(similarity_scores)}\" if self.include_scores else \"\"\n",
        "        }\n",
        "        \n",
        "        formatted_user_prompt = rag_user_prompt.create_message(**user_params)\n",
        "\n",
        "        return {\n",
        "            \"response\": self.llm.run([formatted_system_prompt, formatted_user_prompt]), \n",
        "            \"context\": context_list,\n",
        "            \"context_count\": len(context_list),\n",
        "            \"similarity_scores\": similarity_scores if self.include_scores else None,\n",
        "            \"prompts_used\": {\n",
        "                \"system\": formatted_system_prompt,\n",
        "                \"user\": formatted_user_prompt\n",
        "            }\n",
        "        }"
      ]
    },
    {
      "cell_type": "code",
      "execution_count": 32,
      "metadata": {},
      "outputs": [
        {
          "name": "stdout",
          "output_type": "stream",
          "text": [
            "Response: The 'Michael Eisner Memorial Weak Executive Problem' refers to the tendency of a CEO or startup founder to hire an executive who is weak in a specific functional area that the CEO has personal experience in. This situation arises when the CEO, who may have previously excelled in a particular function (like product management, sales, or marketing), hires a less competent executive for that function. The underlying motivation for this poor hiring decision is often the CEO's desire to maintain control and continue being the leading voice in that area, leading them to choose someone weaker so that they can feel more prominent, as evidenced by the case of Michael Eisner, the former CEO of Disney. His example illustrates that, despite his confidence in turning around ABC, he did not have the time necessary to manage that effectively himself (Source 1).\n",
            "\n",
            "Context Count: 3\n",
            "Similarity Scores: ['Source 1: 0.658', 'Source 2: 0.509', 'Source 3: 0.479']\n"
          ]
        }
      ],
      "source": [
        "rag_pipeline = RetrievalAugmentedQAPipeline(\n",
        "    vector_db_retriever=vector_db,\n",
        "    llm=chat_openai,\n",
        "    response_style=\"detailed\",\n",
        "    include_scores=True\n",
        ")\n",
        "\n",
        "result = rag_pipeline.run_pipeline(\n",
        "    \"What is the 'Michael Eisner Memorial Weak Executive Problem'?\",\n",
        "    k=3,\n",
        "    response_length=\"comprehensive\", \n",
        "    include_warnings=True,\n",
        "    confidence_required=True\n",
        ")\n",
        "\n",
        "print(f\"Response: {result['response']}\")\n",
        "print(f\"\\nContext Count: {result['context_count']}\")\n",
        "print(f\"Similarity Scores: {result['similarity_scores']}\")\n"
      ]
    },
    {
      "cell_type": "markdown",
      "metadata": {
        "id": "zZIJI19uR6yz"
      },
      "source": [
        "#### ❓ Question #4:\n",
        "\n",
        "What prompting strategies could you use to make the LLM have a more thoughtful, detailed response?\n",
        "\n",
        "What is that strategy called?\n",
        "\n",
        "> NOTE: You can look through [\"Accessing GPT-3.5-turbo Like a Developer\"](https://colab.research.google.com/drive/1mOzbgf4a2SP5qQj33ZxTz2a01-5eXqk2?usp=sharing) for an answer to this question if you get stuck!"
      ]
    },
    {
      "cell_type": "markdown",
      "metadata": {},
      "source": [
        "#### ⚡ ANSWER #4: \n",
        "Depending on what our goals are, we can use several prompting strategies:\n",
        "1. Chain of Thought (CoT) reasoning: Ask the model to \"think step by step\".\n",
        "2. Self-ask: Tell the model to ask itself questions needed to solve the problem, answer each of them and finally give the answer.\n",
        "3. Explain like I'm 5, or Analyze: Instruct the model to explain at certain level of detail, or simplify the answer.\n",
        "4. Specify format: e.g. a detailed step-by-step breakdown, or bullet points, or sections, etc.\n",
        "5. Ask for comarison analysis (e.g. pros/cons)\n",
        "6. Tell the model to \"act as\"... e.g.: an expert in something, and explain its answer \n",
        "7. A combination of few-shot examples which *contain* a step-by-step reasoning"
      ]
    },
    {
      "cell_type": "markdown",
      "metadata": {},
      "source": [
        "### 🏗️ Activity #1:\n",
        "\n",
        "Enhance your RAG application in some way! \n",
        "\n",
        "Suggestions are: \n",
        "\n",
        "- Allow it to work with PDF files\n",
        "- Implement a new distance metric\n",
        "- Add metadata support to the vector database\n",
        "\n",
        "While these are suggestions, you should feel free to make whatever augmentations you desire! \n",
        "\n",
        "> NOTE: These additions might require you to work within the `aimakerspace` library - that's expected!\n",
        "\n",
        "> NOTE: If you're not sure where to start - ask Cursor (CMD/CTRL+L) to guide you through the changes!"
      ]
    },
    {
      "cell_type": "code",
      "execution_count": 23,
      "metadata": {},
      "outputs": [
        {
          "name": "stdout",
          "output_type": "stream",
          "text": [
            "4953.86s - pydevd: Sending message related to process being replaced timed-out after 5 seconds\n",
            "Requirement already satisfied: pdfplumber in /home/olb/anaconda3/lib/python3.12/site-packages (0.11.7)\n",
            "Requirement already satisfied: PyPDF2 in /home/olb/anaconda3/lib/python3.12/site-packages (3.0.1)\n",
            "Requirement already satisfied: pdfminer.six==20250506 in /home/olb/anaconda3/lib/python3.12/site-packages (from pdfplumber) (20250506)\n",
            "Requirement already satisfied: Pillow>=9.1 in /home/olb/anaconda3/lib/python3.12/site-packages (from pdfplumber) (10.4.0)\n",
            "Requirement already satisfied: pypdfium2>=4.18.0 in /home/olb/anaconda3/lib/python3.12/site-packages (from pdfplumber) (4.30.1)\n",
            "Requirement already satisfied: charset-normalizer>=2.0.0 in /home/olb/anaconda3/lib/python3.12/site-packages (from pdfminer.six==20250506->pdfplumber) (3.3.2)\n",
            "Requirement already satisfied: cryptography>=36.0.0 in /home/olb/anaconda3/lib/python3.12/site-packages (from pdfminer.six==20250506->pdfplumber) (43.0.0)\n",
            "Requirement already satisfied: cffi>=1.12 in /home/olb/anaconda3/lib/python3.12/site-packages (from cryptography>=36.0.0->pdfminer.six==20250506->pdfplumber) (1.17.1)\n",
            "Requirement already satisfied: pycparser in /home/olb/anaconda3/lib/python3.12/site-packages (from cffi>=1.12->cryptography>=36.0.0->pdfminer.six==20250506->pdfplumber) (2.21)\n"
          ]
        }
      ],
      "source": [
        "! pip install pdfplumber PyPDF2"
      ]
    },
    {
      "cell_type": "code",
      "execution_count": 28,
      "metadata": {},
      "outputs": [],
      "source": [
        "import os\n",
        "import openai\n",
        "# from getpass import getpass\n",
        "from dotenv import load_dotenv\n",
        "\n",
        "load_dotenv()\n",
        "openai.api_key = os.getenv(\"OPENAI_API_KEY\")"
      ]
    },
    {
      "cell_type": "code",
      "execution_count": 29,
      "metadata": {},
      "outputs": [],
      "source": [
        "from aimakerspace.text_utils import PDFFileLoader, CharacterTextSplitter\n",
        "from aimakerspace.vectordatabase import VectorDatabase\n",
        "from aimakerspace.openai_utils.prompts import UserRolePrompt, SystemRolePrompt\n",
        "from aimakerspace.openai_utils.chatmodel import ChatOpenAI"
      ]
    },
    {
      "cell_type": "code",
      "execution_count": 43,
      "metadata": {},
      "outputs": [],
      "source": [
        "import pdfplumber\n",
        "import PyPDF2\n",
        "import asyncio"
      ]
    },
    {
      "cell_type": "code",
      "execution_count": 31,
      "metadata": {},
      "outputs": [],
      "source": [
        "def load_pdf_documents(pdf_file: str, use_pdfplumber: bool = True):\n",
        "    \"\"\"\n",
        "    Load documents from a PDF file using PDFFileLoader.\n",
        "\n",
        "    Args:\n",
        "        pdf_path: Path to the PDF file\n",
        "        use_pdfplumber: Whether to use pdfplumber (better) or PyPDF2 (faster)\n",
        "\n",
        "    Returns:\n",
        "        List of document texts\n",
        "    \"\"\"\n",
        "    print(f\"Loading PDF from: {pdf_file}\")\n",
        "\n",
        "    try:\n",
        "        pdf_loader = PDFFileLoader(pdf_file, use_pdfplumber=use_pdfplumber)\n",
        "        documents = pdf_loader.load_documents()\n",
        "        print(f\"Successfully loaded {len(documents)} document(s) from PDF\")\n",
        "        return documents\n",
        "    except ImportError as e:\n",
        "        print(f\"Missing dependency: {e}\")\n",
        "        print(\"Please install required packages: pip install pdfplumber PyPDF2\")\n",
        "        return []\n",
        "    except FileNotFoundError:\n",
        "        print(f\"PDF file not found: {pdf_file}\")\n",
        "        return []\n",
        "    except Exception as e:\n",
        "        print(f\"Error loading PDF: {e}\")\n",
        "        return []"
      ]
    },
    {
      "cell_type": "code",
      "execution_count": 40,
      "metadata": {},
      "outputs": [],
      "source": [
        "def documents_splitter(documents, chunk_size: int = 1000, chunk_overlap: int = 200): \n",
        "    \"\"\"\n",
        "    Split documents into smaller chunks for processing.\n",
        "\n",
        "    Args:\n",
        "        documents: List of document texts\n",
        "        chunk_size: Size of each chunk\n",
        "        chunk_overlap: Overlap between chunks\n",
        "\n",
        "    Returns:\n",
        "        List of text chunks\n",
        "    \"\"\"\n",
        "    text_splitter = CharacterTextSplitter(\n",
        "        chunk_size=chunk_size,\n",
        "        chunk_overlap=chunk_overlap\n",
        "    )\n",
        "    split_documents = text_splitter.split_texts(documents)\n",
        "    print(f\"Split documents into {len(split_documents)} chunks\")\n",
        "    return split_documents"
      ]
    },
    {
      "cell_type": "code",
      "execution_count": 33,
      "metadata": {},
      "outputs": [],
      "source": [
        "async def build_vector_database(split_documents):\n",
        "    \"\"\"\n",
        "    Build vector database from document chunks.\n",
        "\n",
        "    Args:\n",
        "        split_documents: List of text chunks\n",
        "\n",
        "    Returns:\n",
        "        VectorDatabase instance\n",
        "    \"\"\"\n",
        "    print(\"Building vector database...\")\n",
        "    vector_db = VectorDatabase()\n",
        "    vector_db = await vector_db.abuild_from_list(split_documents)\n",
        "    print(\"Vector database built successfully\")\n",
        "    return vector_db"
      ]
    },
    {
      "cell_type": "code",
      "execution_count": 34,
      "metadata": {},
      "outputs": [],
      "source": [
        "def create_rag_pipeline(vector_db, llm):\n",
        "    \"\"\"\n",
        "    Create a RAG pipeline for question answering.\n",
        "\n",
        "    Args:\n",
        "        vector_db: VectorDatabase instance\n",
        "        llm: ChatOpenAI instance\n",
        "\n",
        "    Returns:\n",
        "        RetrievalAugmentedQAPipeline instance\n",
        "    \"\"\"\n",
        "    # Define RAG prompts\n",
        "    RAG_SYSTEM_TEMPLATE = \"\"\"You are a knowledgeable assistant that answers questions based strictly on provided context.\n",
        "\n",
        "    Instructions:\n",
        "    - Only answer questions using information from the provided context\n",
        "    - If the context doesn't contain relevant information, respond with \"I don't know\"\n",
        "    - Be accurate and cite specific parts of the context when possible\n",
        "    - Keep responses {response_style} and {response_length}\n",
        "    - Only use the provided context. Do not use external knowledge.\n",
        "    - Only provide answers when you are confident the context supports your response.\n",
        "    \"\"\"\n",
        "\n",
        "    RAG_USER_TEMPLATE = \"\"\"Context Information:\n",
        "    {context}\n",
        "\n",
        "    Number of relevant sources found: {context_count}\n",
        "    {similarity_scores}\n",
        "\n",
        "    Question: {user_query}\n",
        "\n",
        "    Please provide your answer based solely on the context above.\"\"\"\n",
        "\n",
        "    rag_system_prompt = SystemRolePrompt(RAG_SYSTEM_TEMPLATE)\n",
        "    rag_user_prompt = UserRolePrompt(RAG_USER_TEMPLATE)\n",
        "\n",
        "    class RetrievalAugmentedQAPipeline:\n",
        "        def __init__(self, llm, vector_db_retriever,\n",
        "                     response_style: str = \"detailed\", include_scores: bool = False):\n",
        "            self.llm = llm\n",
        "            self.vector_db_retriever = vector_db_retriever\n",
        "            self.response_style = response_style\n",
        "            self.include_scores = include_scores\n",
        "\n",
        "        def run_pipeline(self, user_query: str, k: int = 4, **system_kwargs):\n",
        "            # Retrieve relevant contexts\n",
        "            context_list = self.vector_db_retriever.search_by_text(user_query, k=k)\n",
        "                                                                                         \n",
        "            context_prompt = \"\"\n",
        "            similarity_scores = []\n",
        "\n",
        "            for i, (context, score) in enumerate(context_list, 1):\n",
        "                context_prompt += f\"[Source {i}]: {context}\\n\\n\"\n",
        "                similarity_scores.append(f\"Source {i}: {score:.3f}\")\n",
        "\n",
        "            # Create system message with parameters\n",
        "            system_params = {\n",
        "                \"response_style\": self.response_style,\n",
        "                \"response_length\": system_kwargs.get(\"response_length\", \"detailed\")\n",
        "            }\n",
        "\n",
        "            formatted_system_prompt = rag_system_prompt.create_message(**system_params)\n",
        "\n",
        "            user_params = {\n",
        "                \"user_query\": user_query,\n",
        "                \"context\": context_prompt.strip(),\n",
        "                \"context_count\": len(context_list),\n",
        "                \"similarity_scores\": f\"Relevance scores: {', '.join(similarity_scores)}\" if self.include_scores else \"\"\n",
        "            }\n",
        "\n",
        "            formatted_user_prompt = rag_user_prompt.create_message(**user_params)\n",
        "\n",
        "            return {\n",
        "                \"response\": self.llm.run([formatted_system_prompt, formatted_user_prompt]),\n",
        "                \"context\": context_list,\n",
        "                \"context_count\": len(context_list),\n",
        "                \"similarity_scores\": similarity_scores if self.include_scores else None,\n",
        "                \"prompts_used\": {\n",
        "                    \"system\": formatted_system_prompt,\n",
        "                    \"user\": formatted_user_prompt\n",
        "                }\n",
        "            }\n",
        "\n",
        "    return RetrievalAugmentedQAPipeline(llm, vector_db)\n"
      ]
    },
    {
      "cell_type": "markdown",
      "metadata": {},
      "source": [
        "##### RAG Pipeline for RAG on a PDF file    "
      ]
    },
    {
      "cell_type": "code",
      "execution_count": 35,
      "metadata": {},
      "outputs": [
        {
          "name": "stdout",
          "output_type": "stream",
          "text": [
            "Loading PDF from: /home/olb/AIE7-BC/AIM_AIE7/02_Embeddings_and_RAG/data/Apple_Illusion_of_thinking_2025.pdf\n"
          ]
        },
        {
          "name": "stderr",
          "output_type": "stream",
          "text": [
            "Cannot set gray non-stroke color because /'P1' is an invalid float value\n"
          ]
        },
        {
          "name": "stdout",
          "output_type": "stream",
          "text": [
            "Successfully loaded 1 document(s) from PDF\n",
            "\n",
            "Sample content (first 200 characters):\n",
            "5202\n",
            "nuJ\n",
            "7\n",
            "]IA.sc[\n",
            "1v14960.6052:viXra\n",
            "The Illusion of Thinking:\n",
            "Understanding the Strengths and Limitations of Reasoning Models\n",
            "via the Lens of Problem Complexity\n",
            "Parshin Shojaee∗† Iman Mirzadeh∗ Keiv.../n\n"
          ]
        }
      ],
      "source": [
        "# 1. LOAD PDF DOCUMENT    \n",
        "pdf_path = \"/home/olb/AIE7-BC/AIM_AIE7/02_Embeddings_and_RAG/data/\"\n",
        "pdf_filename = \"Apple_Illusion_of_thinking_2025.pdf\"\n",
        "documents = load_pdf_documents(pdf_path+pdf_filename)\n",
        "if not documents:\n",
        "    print(\"No documents loaded. Please check the PDF path and try again.\")\n",
        "else:\n",
        "# Display sample of loaded content\n",
        "    print(f\"\\nSample content (first 200 characters):\")\n",
        "    print(documents[0][:200] + \".../n\")"
      ]
    },
    {
      "cell_type": "code",
      "execution_count": 16,
      "metadata": {},
      "outputs": [
        {
          "name": "stdout",
          "output_type": "stream",
          "text": [
            "/home/olb/AIE7-BC/AIM_AIE7/02_Embeddings_and_RAG\n"
          ]
        }
      ],
      "source": [
        "!pwd"
      ]
    },
    {
      "cell_type": "code",
      "execution_count": 109,
      "metadata": {},
      "outputs": [
        {
          "name": "stdout",
          "output_type": "stream",
          "text": [
            "Split documents into 44 chunks\n"
          ]
        }
      ],
      "source": [
        "# 2. SPLIT DOCUMENTS INTO CHUNKS\n",
        "split_documents = documents_splitter(documents)\n"
      ]
    },
    {
      "cell_type": "code",
      "execution_count": 110,
      "metadata": {},
      "outputs": [
        {
          "data": {
            "text/plain": [
              "list"
            ]
          },
          "execution_count": 110,
          "metadata": {},
          "output_type": "execute_result"
        }
      ],
      "source": [
        "type(split_documents)"
      ]
    },
    {
      "cell_type": "code",
      "execution_count": 111,
      "metadata": {},
      "outputs": [],
      "source": [
        "import tracemalloc\n",
        "tracemalloc.start()"
      ]
    },
    {
      "cell_type": "code",
      "execution_count": 112,
      "metadata": {},
      "outputs": [
        {
          "name": "stdout",
          "output_type": "stream",
          "text": [
            "Building vector database...\n",
            "Vector database built successfully\n"
          ]
        }
      ],
      "source": [
        "async def main():\n",
        "    vector_db = await build_vector_database(split_documents)\n",
        "    return vector_db\n",
        "\n",
        "# Run the async function\n",
        "vector_db = await main()\n"
      ]
    },
    {
      "cell_type": "code",
      "execution_count": 117,
      "metadata": {},
      "outputs": [
        {
          "name": "stdout",
          "output_type": "stream",
          "text": [
            "160053.66s - pydevd: Sending message related to process being replaced timed-out after 5 seconds\n",
            "/home/olb/AIE7-BC/AIM_AIE7/02_Embeddings_and_RAG\n"
          ]
        }
      ],
      "source": [
        "!pwd\n"
      ]
    },
    {
      "cell_type": "markdown",
      "metadata": {},
      "source": [
        "In the following:      \n",
        "* Use `search_with_source_filter()` when:\n",
        "* You have multiple PDF files\n",
        "* You want to search only in one specific file\n",
        "* You know the exact file name\n",
        "* Use `search_by_tags()` when:\n",
        "* You want to search by topic/keyword\n",
        "* You have documents with different themes\n",
        "* You want to filter by content type"
      ]
    },
    {
      "cell_type": "code",
      "execution_count": 119,
      "metadata": {},
      "outputs": [],
      "source": [
        "# SIMPLE METADATA SUPPORT - GENERIC VERSION\n",
        "import datetime\n",
        "import os\n",
        "\n",
        "class SimpleMetadataDB:\n",
        "    def __init__(self, vector_db):\n",
        "        self.vector_db = vector_db\n",
        "        self.metadata = {}\n",
        "    \n",
        "    def add_basic_metadata(self, text, source_file=None, tags=None, chunk_index=None, file_dir=\"data\"):\n",
        "        \"\"\"Add basic metadata to a document.\n",
        "           text is each document chunk in the split_documents\n",
        "           source_file is the name of the source file\n",
        "           tags is a list of keywords to filter in the document\n",
        "           chunk_index is the index of this chunk in the document\n",
        "        \"\"\"\n",
        "        if text in self.vector_db.vectors:\n",
        "            # Use defaults if not provided\n",
        "            if source_file is None:\n",
        "                source_file = \"unknown_file\"\n",
        "            \n",
        "            if tags is None:\n",
        "                tags = [\"general\", \"document\", \"text\"]\n",
        "            \n",
        "            if chunk_index is None:\n",
        "                chunk_index = 0\n",
        "            \n",
        "            # Get file info if possible\n",
        "            try:\n",
        "                # Use current working directory + data subfolder (generic)\n",
        "                current_dir = os.getcwd()\n",
        "                file_path = os.path.join(current_dir, file_dir, source_file)\n",
        "                file_size = os.path.getsize(file_path) if os.path.exists(file_path) else 0\n",
        "            except:\n",
        "                file_path = os.path.join(\"data\", source_file)  # fallback\n",
        "                file_size = 0\n",
        "            # Determine file type from extension\n",
        "            file_type = \"pdf\"  # default\n",
        "            if source_file:\n",
        "                if source_file.lower().endswith('.pdf'):\n",
        "                    file_type = \"pdf\"\n",
        "                elif source_file.lower().endswith('.txt'):\n",
        "                    file_type = \"txt\"\n",
        "                elif source_file.lower().endswith('.docx'):\n",
        "                    file_type = \"docx\"\n",
        "                elif source_file.lower().endswith('.html'):\n",
        "                    file_type = \"html\"\n",
        "            \n",
        "            self.metadata[text] = {\n",
        "                \"chunk_index\": chunk_index,\n",
        "                \"source_file\": source_file,\n",
        "                \"file_path\": file_path,\n",
        "                \"file_size\": file_size,\n",
        "                \"file_type\": file_type,\n",
        "                \"file_date\": datetime.datetime.now().strftime(\"%Y-%m-%d\"),\n",
        "                \"file_keywords\": tags,\n",
        "                \"file_language\": \"English\",\n",
        "                \"file_encoding\": \"UTF-8\",\n",
        "                \"file_creation_date\": datetime.datetime.now().strftime(\"%Y-%m-%d\"),\n",
        "                \"file_modification_date\": datetime.datetime.now().strftime(\"%Y-%m-%d\"),\n",
        "                \"file_last_modified\": datetime.datetime.now().strftime(\"%Y-%m-%d\")\n",
        "            }     \n",
        "            print(f\"Added metadata for chunk {chunk_index} from: {source_file}\")\n",
        "        else:\n",
        "            print(f\"Document not found: {text[:50]}...\")\n",
        "    \n",
        "    def add_metadata_to_all_documents(self, source_file, tags=None):\n",
        "        \"\"\"Add metadata to all documents in the vector database.\"\"\"\n",
        "        print(f\"Adding metadata to all documents from: {source_file}\")\n",
        "        \n",
        "        for i, text in enumerate(self.vector_db.vectors.keys()):\n",
        "            self.add_basic_metadata(\n",
        "                text=text,\n",
        "                source_file=source_file,\n",
        "                tags=tags,\n",
        "                chunk_index=i\n",
        "            )\n",
        "        \n",
        "        print(f\"Added metadata to {len(self.vector_db.vectors)} documents\")\n",
        "    \n",
        "    def search_with_source_filter(self, query, source_file=None):\n",
        "        \"\"\"Search and optionally filter by source file.\"\"\"\n",
        "        results = self.vector_db.search_by_text(query, k=10)\n",
        "        \n",
        "        filtered_results = []\n",
        "        for text, score in results:\n",
        "            metadata = self.metadata.get(text, {})\n",
        "            \n",
        "            # If source filter is specified, only include matching documents\n",
        "            if source_file is None or metadata.get('source_file') == source_file:\n",
        "                filtered_results.append((text, score, metadata))\n",
        "        \n",
        "        return filtered_results\n",
        "    \n",
        "    def search_by_tags(self, query, tags=None):\n",
        "        \"\"\"Search in documents tagged with tags and filter by tags.\"\"\"\n",
        "        results = self.vector_db.search_by_text(query, k=20)  # Get more results for filtering\n",
        "        \n",
        "        filtered_results = []\n",
        "        for text, score in results:\n",
        "            metadata = self.metadata.get(text, {})\n",
        "            document_tags = metadata.get('file_keywords', [])\n",
        "            \n",
        "            # If tags filter is specified, check if any tag matches\n",
        "            if tags is None or any(tag in document_tags for tag in tags):\n",
        "                filtered_results.append((text, score, metadata))\n",
        "        \n",
        "        return filtered_results[:10]  # Return top 10\n",
        "    \n",
        "    def get_metadata_summary(self):\n",
        "        \"\"\"Get a summary of all metadata.\"\"\"\n",
        "        if not self.metadata:\n",
        "            return {\"total_documents\": 0}\n",
        "        \n",
        "        summary = {\n",
        "            \"total_documents\": len(self.metadata),\n",
        "            \"source_files\": set(),\n",
        "            \"file_types\": set(),\n",
        "            \"all_tags\": set()\n",
        "        }\n",
        "        \n",
        "        for metadata in self.metadata.values():\n",
        "            if 'source_file' in metadata:\n",
        "                summary[\"source_files\"].add(metadata['source_file'])\n",
        "            if 'file_type' in metadata:\n",
        "                summary[\"file_types\"].add(metadata['file_type'])\n",
        "            if 'file_keywords' in metadata:\n",
        "                summary[\"all_tags\"].update(metadata['file_keywords'])\n",
        "        \n",
        "        # Convert sets to lists for easier handling\n",
        "        summary[\"source_files\"] = list(summary[\"source_files\"])\n",
        "        summary[\"file_types\"] = list(summary[\"file_types\"])\n",
        "        summary[\"all_tags\"] = list(summary[\"all_tags\"])\n",
        "        \n",
        "        return summary"
      ]
    },
    {
      "cell_type": "code",
      "execution_count": 121,
      "metadata": {},
      "outputs": [
        {
          "name": "stdout",
          "output_type": "stream",
          "text": [
            "Adding metadata to all documents from: Apple_Illusion_of_thinking_2025.pdf\n",
            "Added metadata for chunk 0 from: Apple_Illusion_of_thinking_2025.pdf\n",
            "Added metadata for chunk 1 from: Apple_Illusion_of_thinking_2025.pdf\n",
            "Added metadata for chunk 2 from: Apple_Illusion_of_thinking_2025.pdf\n",
            "Added metadata for chunk 3 from: Apple_Illusion_of_thinking_2025.pdf\n",
            "Added metadata for chunk 4 from: Apple_Illusion_of_thinking_2025.pdf\n",
            "Added metadata for chunk 5 from: Apple_Illusion_of_thinking_2025.pdf\n",
            "Added metadata for chunk 6 from: Apple_Illusion_of_thinking_2025.pdf\n",
            "Added metadata for chunk 7 from: Apple_Illusion_of_thinking_2025.pdf\n",
            "Added metadata for chunk 8 from: Apple_Illusion_of_thinking_2025.pdf\n",
            "Added metadata for chunk 9 from: Apple_Illusion_of_thinking_2025.pdf\n",
            "Added metadata for chunk 10 from: Apple_Illusion_of_thinking_2025.pdf\n",
            "Added metadata for chunk 11 from: Apple_Illusion_of_thinking_2025.pdf\n",
            "Added metadata for chunk 12 from: Apple_Illusion_of_thinking_2025.pdf\n",
            "Added metadata for chunk 13 from: Apple_Illusion_of_thinking_2025.pdf\n",
            "Added metadata for chunk 14 from: Apple_Illusion_of_thinking_2025.pdf\n",
            "Added metadata for chunk 15 from: Apple_Illusion_of_thinking_2025.pdf\n",
            "Added metadata for chunk 16 from: Apple_Illusion_of_thinking_2025.pdf\n",
            "Added metadata for chunk 17 from: Apple_Illusion_of_thinking_2025.pdf\n",
            "Added metadata for chunk 18 from: Apple_Illusion_of_thinking_2025.pdf\n",
            "Added metadata for chunk 19 from: Apple_Illusion_of_thinking_2025.pdf\n",
            "Added metadata for chunk 20 from: Apple_Illusion_of_thinking_2025.pdf\n",
            "Added metadata for chunk 21 from: Apple_Illusion_of_thinking_2025.pdf\n",
            "Added metadata for chunk 22 from: Apple_Illusion_of_thinking_2025.pdf\n",
            "Added metadata for chunk 23 from: Apple_Illusion_of_thinking_2025.pdf\n",
            "Added metadata for chunk 24 from: Apple_Illusion_of_thinking_2025.pdf\n",
            "Added metadata for chunk 25 from: Apple_Illusion_of_thinking_2025.pdf\n",
            "Added metadata for chunk 26 from: Apple_Illusion_of_thinking_2025.pdf\n",
            "Added metadata for chunk 27 from: Apple_Illusion_of_thinking_2025.pdf\n",
            "Added metadata for chunk 28 from: Apple_Illusion_of_thinking_2025.pdf\n",
            "Added metadata for chunk 29 from: Apple_Illusion_of_thinking_2025.pdf\n",
            "Added metadata for chunk 30 from: Apple_Illusion_of_thinking_2025.pdf\n",
            "Added metadata for chunk 31 from: Apple_Illusion_of_thinking_2025.pdf\n",
            "Added metadata for chunk 32 from: Apple_Illusion_of_thinking_2025.pdf\n",
            "Added metadata for chunk 33 from: Apple_Illusion_of_thinking_2025.pdf\n",
            "Added metadata for chunk 34 from: Apple_Illusion_of_thinking_2025.pdf\n",
            "Added metadata for chunk 35 from: Apple_Illusion_of_thinking_2025.pdf\n",
            "Added metadata for chunk 36 from: Apple_Illusion_of_thinking_2025.pdf\n",
            "Added metadata for chunk 37 from: Apple_Illusion_of_thinking_2025.pdf\n",
            "Added metadata for chunk 38 from: Apple_Illusion_of_thinking_2025.pdf\n",
            "Added metadata for chunk 39 from: Apple_Illusion_of_thinking_2025.pdf\n",
            "Added metadata for chunk 40 from: Apple_Illusion_of_thinking_2025.pdf\n",
            "Added metadata for chunk 41 from: Apple_Illusion_of_thinking_2025.pdf\n",
            "Added metadata for chunk 42 from: Apple_Illusion_of_thinking_2025.pdf\n",
            "Added metadata for chunk 43 from: Apple_Illusion_of_thinking_2025.pdf\n",
            "Added metadata to 44 documents\n",
            "Found 10 results with tag filtering:\n",
            "\n",
            "1. Score: 0.6745\n",
            "   Tags: ['Illusion of Thinking', 'Large Reasoning Models', 'LLMs', 'RLMs', 'Problem Complexity', 'Reasoning Models', 'AI', 'Research']\n",
            "   Text: e of Reasoning Models\n",
            "We next examine how different specialized reasoning models equipped with think...\n",
            "\n",
            "2. Score: 0.6517\n",
            "   Tags: ['Illusion of Thinking', 'Large Reasoning Models', 'LLMs', 'RLMs', 'Problem Complexity', 'Reasoning Models', 'AI', 'Research']\n",
            "   Text: 5202\n",
            "nuJ\n",
            "7\n",
            "]IA.sc[\n",
            "1v14960.6052:viXra\n",
            "The Illusion of Thinking:\n",
            "Understanding the Strengths and Limi...\n",
            "\n",
            "3. Score: 0.6492\n",
            "   Tags: ['Illusion of Thinking', 'Large Reasoning Models', 'LLMs', 'RLMs', 'Problem Complexity', 'Reasoning Models', 'AI', 'Research']\n",
            "   Text: of thinking vs. non-thinking models across equivalent compute\n",
            "budgets in puzzle environments of low,...\n"
          ]
        }
      ],
      "source": [
        "# 1. Create the enhanced database\n",
        "enhanced_db = SimpleMetadataDB(vector_db)\n",
        "\n",
        "# 2. Add metadata to your documents\n",
        "enhanced_db.add_metadata_to_all_documents(\n",
        "    source_file=pdf_filename,\n",
        "    tags=[\"Illusion of Thinking\", \"Large Reasoning Models\", \"LLMs\", \"RLMs\", \"Problem Complexity\", \"Reasoning Models\", \"AI\", \"Research\"]\n",
        ")\n"
      ]
    },
    {
      "cell_type": "code",
      "execution_count": 122,
      "metadata": {},
      "outputs": [
        {
          "name": "stdout",
          "output_type": "stream",
          "text": [
            "\n",
            "🔍 Query: 'Large Reasoning Models'\n",
            "   Best score: 0.6294\n",
            "   Best match: of these improvements is Deepseek-\n",
            "R1 [3], which demonstrated that applying RL w...\n",
            "\n",
            "🔍 Query: 'LLMs reasoning capabilities'\n",
            "   Best score: 0.5670\n",
            "   Best match:  (2) avoid contamination common in established benchmarks;\n",
            "(3) require only the ...\n",
            "\n",
            "🔍 Query: 'thinking models'\n",
            "   Best score: 0.5342\n",
            "   Best match: e of Reasoning Models\n",
            "We next examine how different specialized reasoning models...\n",
            "\n",
            "🔍 Query: 'reasoning limitations'\n",
            "   Best score: 0.6349\n",
            "   Best match: insufficiently understood. Critical questions still persist: Are these models ca...\n",
            "\n",
            "🔍 Query: 'problem complexity'\n",
            "   Best score: 0.4963\n",
            "   Best match: e generate 25 samples and report the average performance of each model across th...\n"
          ]
        }
      ],
      "source": [
        "# Test with more specific queries\n",
        "test_queries = [\n",
        "    \"Large Reasoning Models\",  # More specific\n",
        "    \"LLMs reasoning capabilities\",  # More specific\n",
        "    \"thinking models\",  # Different phrasing\n",
        "    \"reasoning limitations\",  # Different aspect\n",
        "    \"problem complexity\"  # Another topic from your tags\n",
        "]\n",
        "\n",
        "for query in test_queries:\n",
        "    print(f\"\\n🔍 Query: '{query}'\")\n",
        "    results = enhanced_db.search_with_source_filter(\n",
        "        query=query,\n",
        "        source_file=\"Apple_Illusion_of_thinking_2025.pdf\"\n",
        "    )\n",
        "    \n",
        "    if results:\n",
        "        best_score = results[0][1]  # Get the highest score\n",
        "        print(f\"   Best score: {best_score:.4f}\")\n",
        "        print(f\"   Best match: {results[0][0][:80]}...\")\n",
        "    else:\n",
        "        print(\"   No results found\")"
      ]
    },
    {
      "cell_type": "code",
      "execution_count": 123,
      "metadata": {},
      "outputs": [
        {
          "name": "stdout",
          "output_type": "stream",
          "text": [
            "Vector database built successfully!\n",
            "RAG pipeline created successfully!\n"
          ]
        }
      ],
      "source": [
        "\n",
        "# 4. Initialize LLM\n",
        "chat_openai = ChatOpenAI()\n",
        "\n",
        "# 5. CREATE RAG PIPELINE\n",
        "rag_pipeline = create_rag_pipeline(vector_db, chat_openai)\n",
        "\n",
        "print(\"Vector database built successfully!\")\n",
        "print(\"RAG pipeline created successfully!\")"
      ]
    },
    {
      "cell_type": "code",
      "execution_count": 124,
      "metadata": {},
      "outputs": [
        {
          "name": "stdout",
          "output_type": "stream",
          "text": [
            "\n",
            "Question: What is the main topic of this document?\n",
            "Response: The main topic of the document is the evaluation and analysis of Large Reasoning Models (LRMs) concerning their reasoning capabilities, limitations, and developmental improvements. It discusses the reasoning mechanisms of LRMs, such as Chain-of-Thought (CoT) and self-reflection, as well as their performance on reasoning tasks and benchmarks. The document highlights both the strengths and shortcomings of LRMs, particularly issues related to complexity-dependent reasoning patterns and limitations in exact computation, exemplified through their performance on problems like the Tower of Hanoi. Additionally, it mentions various approaches for enhancing LRM performance, including scaling techniques and the application of reinforcement learning.\n",
            "Context Count: 3\n",
            "\n",
            "Question: What are the key points discussed?\n",
            "Response: The key points discussed in the provided context include:\n",
            "\n",
            "1. **Understanding Current Models**: There are critical questions regarding Large Reasoning Models (LRMs), such as their capacity for generalizable reasoning versus reliance on pattern matching, performance scalability with problem complexity, and inherent limitations compared to standard language models when given the same computational resources (Source 1).\n",
            "\n",
            "2. **Evaluation Paradigm Limitations**: The existing evaluation methods emphasize established mathematical and coding benchmarks, which often suffer from issues like data contamination and lack controlled conditions across various settings and complexities. This leads to a lack of insights into the structure and quality of reasoning processes in these models (Source 1, Source 3).\n",
            "\n",
            "3. **Reasoning Patterns and Complexity**: The analysis of reasoning traces indicates that LRM performance is affected by complexity, showing inefficient problem-solving on simpler problems and failures as complexity increases. This challenges conventional assumptions about their reasoning capabilities and indicates they may face fundamental limits to generalizable reasoning (Source 2).\n",
            "\n",
            "4. **Specific Limitations**: LRMs exhibit limitations in performing exact computation, as evidenced by their unchanged performance on the Tower of Hanoi puzzle even when the solution algorithm was provided. The investigation into their initial failure moves revealed unexpected behaviors (Source 2).\n",
            "\n",
            "5. **Open Questions for Future Work**: The surprising results observed in their capabilities raise several open questions for future research, particularly about how LRMs can improve in reasoning tasks as complexity increases (Source 2). \n",
            "\n",
            "Overall, the context highlights the need for systematic analyses and better evaluation methods to comprehensively understand the strengths and limitations of LRMs in reasoning tasks.\n",
            "Context Count: 3\n",
            "\n",
            "Question: Can you summarize the content?\n",
            "Response: The provided context discusses the characteristics and performance of Large Reasoning Models (LRMs) such as OpenAI's o1/o3, DeepSeek-R1, Claude 3.7 Sonnet Thinking, and Gemini Thinking. These models are designed for reasoning tasks and utilize advanced thinking mechanisms like long Chain-of-Thought (CoT) with self-reflection, showing promise in various reasoning benchmarks.\n",
            "\n",
            "The analysis of intermediate solutions within model reasoning is highlighted, focusing on how correctness and position within the reasoning trace relate to problem complexity. For instance, the researchers recorded the relative position of solutions, their correctness, and the complexity of the problems to characterize how the models develop solutions throughout the reasoning process. \n",
            "\n",
            "An example involving a sequence of moves (presumably related to a puzzle or challenge) illustrates how models can output reasoning traces and final answers, emphasizing the accuracy measurements based on these traces. Additionally, a comparison of accuracy and efficiency between thinking and non-thinking models is discussed, showing that non-thinking models perform better at low complexity, while reasoning models excel at higher complexities but require more tokens until reaching a threshold where performance declines. \n",
            "\n",
            "Overall, the context encapsulates an exploration of reasoning models' capabilities, their intermediate thought processes, and their performance metrics across various complexities in reasoning tasks.\n",
            "Context Count: 3\n"
          ]
        }
      ],
      "source": [
        "# 6. TEST RAG PIPELINE \n",
        "test_queries = [\n",
        "    \"What is the main topic of this document?\",\n",
        "    \"What are the key points discussed?\",\n",
        "    \"Can you summarize the content?\"\n",
        "]\n",
        "for query in test_queries:\n",
        "    print(f\"\\nQuestion: {query}\")\n",
        "    try:\n",
        "        result = rag_pipeline.run_pipeline(\n",
        "            query,\n",
        "            k=3,\n",
        "            include_scores=True,\n",
        "            response_length=\"comprehensive\"\n",
        "        )    \n",
        "    \n",
        "        print(f\"Response: {result['response']}\")\n",
        "        print(f\"Context Count: {result['context_count']}\")\n",
        "        if result['similarity_scores']:\n",
        "            print(f\"Similarity Scores: {result['similarity_scores']}\")\n",
        "    except Exception as e:\n",
        "        print(f\"Error processing query: {e}\")"
      ]
    },
    {
      "cell_type": "code",
      "execution_count": 125,
      "metadata": {},
      "outputs": [],
      "source": [
        "def cos_similarity(vector_db, test_query: str = \"What are the limitations of reasoning models?\"):\n",
        "    \"\"\"\n",
        "    Quick test of cos similarity distance.\n",
        "    \"\"\"\n",
        "    print(f\"Quick cos similarity Distance Test\")\n",
        "    print(f\"Query: '{test_query}'\")\n",
        "    print(\"-\" * 50)\n",
        "    \n",
        "    try:\n",
        "        # Use the existing search method which already handles embeddings internally\n",
        "        # This avoids the async issues entirely\n",
        "        search_results = vector_db.search_by_text(test_query, k=10)\n",
        "        \n",
        "        if not search_results:\n",
        "            print(\"No results found. Please check your vector database.\")\n",
        "            return []\n",
        "        \n",
        "        print(\"Top 3 results from existing search method:\")\n",
        "        for i, (text, score) in enumerate(search_results[:3], 1):\n",
        "            print(f\"{i}. Similarity Score: {score:.4f}\")\n",
        "            print(f\"   Text: {text[:100]}...\")\n",
        "            print()\n",
        "            \n",
        "        return search_results[:3]\n",
        "        \n",
        "    except Exception as e:\n",
        "        print(f\"Error: {e}\")\n",
        "        return [] "
      ]
    },
    {
      "cell_type": "code",
      "execution_count": 126,
      "metadata": {},
      "outputs": [
        {
          "name": "stdout",
          "output_type": "stream",
          "text": [
            "Quick cos similarity Distance Test\n",
            "Query: 'What are the limitations of reasoning models?'\n",
            "--------------------------------------------------\n",
            "Top 3 results from existing search method:\n",
            "1. Similarity Score: 0.7252\n",
            "   Text: insufficiently understood. Critical questions still persist: Are these models capable\n",
            "of generalizab...\n",
            "\n",
            "2. Similarity Score: 0.6837\n",
            "   Text: rs at similar points, highlighting reasoning model limitations in logical step execution. (c) &\n",
            "(d) ...\n",
            "\n",
            "3. Similarity Score: 0.6821\n",
            "   Text: 5202\n",
            "nuJ\n",
            "7\n",
            "]IA.sc[\n",
            "1v14960.6052:viXra\n",
            "The Illusion of Thinking:\n",
            "Understanding the Strengths and Limi...\n",
            "\n"
          ]
        }
      ],
      "source": [
        "test_query = \"What are the limitations of reasoning models?\"\n",
        "cos_similarity(vector_db, test_query = test_query)\n",
        "search_results = vector_db.search_by_text(test_query, k=10)"
      ]
    },
    {
      "cell_type": "code",
      "execution_count": 127,
      "metadata": {},
      "outputs": [
        {
          "name": "stdout",
          "output_type": "stream",
          "text": [
            "�� COMPARING DISTANCE METRICS BETWEEN EXISTING VECTORS\n",
            "============================================================\n",
            "Found 44 vectors in database\n",
            "Using as reference: 5202\n",
            "nuJ\n",
            "7\n",
            "]IA.sc[\n",
            "1v14960.6052:viXra\n",
            "The Illusion of Thinking:\n",
            "Understanding th...\n",
            "Reference vector dimension: 1536\n",
            "\n",
            "📊 RANKING BY EACH METRIC:\n",
            "\n",
            "�� EUCLIDEAN DISTANCE (lower = better):\n",
            "1. Distance: 0.6341\n",
            "   Text: rs at similar points, highlighting reasoning model limitations in logical step e...\n",
            "2. Distance: 0.7042\n",
            "   Text: \n",
            "designed for reasoning tasks—Large Reasoning Models (LRMs) such as OpenAI’s o1/...\n",
            "3. Distance: 0.7052\n",
            "   Text:  help of deterministic puzzle simulators. Our\n",
            "analysis reveals that as problem c...\n",
            "4. Distance: 0.7073\n",
            "   Text:  (2) avoid contamination common in established benchmarks;\n",
            "(3) require only the ...\n",
            "5. Distance: 0.7077\n",
            "   Text:  at high complexity. Particularly concerning is the counterin-\n",
            "tuitive reduction...\n",
            "\n",
            "🗺️ MANHATTAN DISTANCE (lower = better):\n",
            "1. Distance: 19.5596\n",
            "   Text: rs at similar points, highlighting reasoning model limitations in logical step e...\n",
            "2. Distance: 21.5465\n",
            "   Text:  at high complexity. Particularly concerning is the counterin-\n",
            "tuitive reduction...\n",
            "3. Distance: 21.7764\n",
            "   Text: fer from data contamination issues and do\n",
            "not allow for controlled experimental ...\n",
            "4. Distance: 21.9877\n",
            "   Text:  (2) avoid contamination common in established benchmarks;\n",
            "(3) require only the ...\n",
            "5. Distance: 22.0054\n",
            "   Text:  help of deterministic puzzle simulators. Our\n",
            "analysis reveals that as problem c...\n",
            "\n",
            "🔗 DOT PRODUCT SIMILARITY (higher = better):\n",
            "1. Score: 0.7990\n",
            "   Text: rs at similar points, highlighting reasoning model limitations in logical step e...\n",
            "2. Score: 0.7520\n",
            "   Text: \n",
            "designed for reasoning tasks—Large Reasoning Models (LRMs) such as OpenAI’s o1/...\n",
            "3. Score: 0.7513\n",
            "   Text:  help of deterministic puzzle simulators. Our\n",
            "analysis reveals that as problem c...\n",
            "4. Score: 0.7499\n",
            "   Text:  (2) avoid contamination common in established benchmarks;\n",
            "(3) require only the ...\n",
            "5. Score: 0.7496\n",
            "   Text:  at high complexity. Particularly concerning is the counterin-\n",
            "tuitive reduction...\n",
            "\n",
            "📐 COSINE SIMILARITY (higher = better):\n",
            "1. Score: 0.7990\n",
            "   Text: rs at similar points, highlighting reasoning model limitations in logical step e...\n",
            "2. Score: 0.7520\n",
            "   Text: \n",
            "designed for reasoning tasks—Large Reasoning Models (LRMs) such as OpenAI’s o1/...\n",
            "3. Score: 0.7513\n",
            "   Text:  help of deterministic puzzle simulators. Our\n",
            "analysis reveals that as problem c...\n",
            "4. Score: 0.7499\n",
            "   Text:  (2) avoid contamination common in established benchmarks;\n",
            "(3) require only the ...\n",
            "5. Score: 0.7496\n",
            "   Text:  at high complexity. Particularly concerning is the counterin-\n",
            "tuitive reduction...\n",
            "\n"
          ]
        }
      ],
      "source": [
        "# CALCULATE METRICS BETWEEN EXISTING VECTORS\n",
        "import numpy as np\n",
        "\n",
        "def euclidean_distance(vec1, vec2):\n",
        "    return np.sqrt(np.sum((vec1 - vec2) ** 2))\n",
        "\n",
        "def manhattan_distance(vec1, vec2):\n",
        "    return np.sum(np.abs(vec1 - vec2))\n",
        "\n",
        "def dot_product_similarity(vec1, vec2):\n",
        "    return np.dot(vec1, vec2)\n",
        "\n",
        "def cosine_similarity(vec1, vec2):\n",
        "    dot_product = np.dot(vec1, vec2)\n",
        "    norm1 = np.linalg.norm(vec1)\n",
        "    norm2 = np.linalg.norm(vec2)\n",
        "    return dot_product / (norm1 * norm2) if norm1 * norm2 != 0 else 0\n",
        "\n",
        "def compare_metrics_between_vectors(vector_db, k=5):\n",
        "    \"\"\"Compare different metrics between existing vectors in the database.\"\"\"\n",
        "    \n",
        "    print(\"�� COMPARING DISTANCE METRICS BETWEEN EXISTING VECTORS\")\n",
        "    print(\"=\" * 60)\n",
        "    \n",
        "    # Get all vectors from the database\n",
        "    all_texts = list(vector_db.vectors.keys())\n",
        "    print(f\"Found {len(all_texts)} vectors in database\")\n",
        "    \n",
        "    if len(all_texts) < 2:\n",
        "        print(\"Need at least 2 vectors to compare\")\n",
        "        return\n",
        "    \n",
        "    # Pick the first vector as reference\n",
        "    reference_text = all_texts[0]\n",
        "    reference_vector = np.array(vector_db.vectors[reference_text])\n",
        "    \n",
        "    print(f\"Using as reference: {reference_text[:80]}...\")\n",
        "    print(f\"Reference vector dimension: {len(reference_vector)}\")\n",
        "    print()\n",
        "    \n",
        "    # Calculate all metrics for all other vectors\n",
        "    results = []\n",
        "    \n",
        "    for text in all_texts[1:]:  # Skip the reference vector\n",
        "        vector = np.array(vector_db.vectors[text])\n",
        "        \n",
        "        # Calculate all metrics\n",
        "        euclidean_dist = euclidean_distance(reference_vector, vector)\n",
        "        manhattan_dist = manhattan_distance(reference_vector, vector)\n",
        "        dot_prod = dot_product_similarity(reference_vector, vector)\n",
        "        cosine_sim = cosine_similarity(reference_vector, vector)\n",
        "        \n",
        "        results.append({\n",
        "            'text': text,\n",
        "            'euclidean': euclidean_dist,\n",
        "            'manhattan': manhattan_dist,\n",
        "            'dot_product': dot_prod,\n",
        "            'cosine': cosine_sim\n",
        "        })\n",
        "    \n",
        "    # Sort by each metric\n",
        "    print(\"📊 RANKING BY EACH METRIC:\")\n",
        "    print()\n",
        "    \n",
        "    # Euclidean (lower is better)\n",
        "    euclidean_sorted = sorted(results, key=lambda x: x['euclidean'])\n",
        "    print(\"�� EUCLIDEAN DISTANCE (lower = better):\")\n",
        "    for i, result in enumerate(euclidean_sorted[:k], 1):\n",
        "        print(f\"{i}. Distance: {result['euclidean']:.4f}\")\n",
        "        print(f\"   Text: {result['text'][:80]}...\")\n",
        "    print()\n",
        "    \n",
        "    # Manhattan (lower is better)\n",
        "    manhattan_sorted = sorted(results, key=lambda x: x['manhattan'])\n",
        "    print(\"🗺️ MANHATTAN DISTANCE (lower = better):\")\n",
        "    for i, result in enumerate(manhattan_sorted[:k], 1):\n",
        "        print(f\"{i}. Distance: {result['manhattan']:.4f}\")\n",
        "        print(f\"   Text: {result['text'][:80]}...\")\n",
        "    print()\n",
        "    \n",
        "    # Dot Product (higher is better)\n",
        "    dot_sorted = sorted(results, key=lambda x: x['dot_product'], reverse=True)\n",
        "    print(\"🔗 DOT PRODUCT SIMILARITY (higher = better):\")\n",
        "    for i, result in enumerate(dot_sorted[:k], 1):\n",
        "        print(f\"{i}. Score: {result['dot_product']:.4f}\")\n",
        "        print(f\"   Text: {result['text'][:80]}...\")\n",
        "    print()\n",
        "    \n",
        "    # Cosine (higher is better)\n",
        "    cosine_sorted = sorted(results, key=lambda x: x['cosine'], reverse=True)\n",
        "    print(\"📐 COSINE SIMILARITY (higher = better):\")\n",
        "    for i, result in enumerate(cosine_sorted[:k], 1):\n",
        "        print(f\"{i}. Score: {result['cosine']:.4f}\")\n",
        "        print(f\"   Text: {result['text'][:80]}...\")\n",
        "    print()\n",
        "    \n",
        "    return {\n",
        "        'euclidean': euclidean_sorted[:k],\n",
        "        'manhattan': manhattan_sorted[:k],\n",
        "        'dot_product': dot_sorted[:k],\n",
        "        'cosine': cosine_sorted[:k]\n",
        "    }\n",
        "\n",
        "# Run the comparison\n",
        "results = compare_metrics_between_vectors(vector_db, k=5)"
      ]
    },
    {
      "cell_type": "code",
      "execution_count": 129,
      "metadata": {},
      "outputs": [
        {
          "name": "stdout",
          "output_type": "stream",
          "text": [
            "🔍 COMPARING 3 VECTORS\n",
            "==================================================\n",
            "\n",
            "�� Reference 1: 5202\n",
            "nuJ\n",
            "7\n",
            "]IA.sc[\n",
            "1v14960.6052:viXra\n",
            "The Illusion of Thinki...\n",
            "  vs 2: Euclidean=0.7216, Manhattan=22.3395, Dot=0.7396, Cosine=0.7396\n",
            "  vs 3: Euclidean=0.7242, Manhattan=22.4745, Dot=0.7378, Cosine=0.7378\n",
            "\n",
            "�� Reference 2: s\n",
            "into the reasoning traces’ structure and quality. In this ...\n",
            "  vs 1: Euclidean=0.7216, Manhattan=22.3395, Dot=0.7396, Cosine=0.7396\n",
            "  vs 3: Euclidean=0.6554, Manhattan=20.2016, Dot=0.7852, Cosine=0.7852\n",
            "\n",
            "�� Reference 3: ntify three performance regimes: (1) low-\n",
            "complexity tasks w...\n",
            "  vs 1: Euclidean=0.7242, Manhattan=22.4745, Dot=0.7378, Cosine=0.7378\n",
            "  vs 2: Euclidean=0.6554, Manhattan=20.2016, Dot=0.7852, Cosine=0.7852\n"
          ]
        }
      ],
      "source": [
        "# COMPARE MULTIPLE VECTORS\n",
        "def compare_multiple_vectors(vector_db, num_vectors=3):\n",
        "    \"\"\"Compare multiple vectors against each other.\"\"\"\n",
        "    \n",
        "    all_texts = list(vector_db.vectors.keys())\n",
        "    if len(all_texts) < num_vectors:\n",
        "        num_vectors = len(all_texts)\n",
        "    \n",
        "    print(f\"🔍 COMPARING {num_vectors} VECTORS\")\n",
        "    print(\"=\" * 50)\n",
        "    \n",
        "    # Pick first few vectors\n",
        "    selected_texts = all_texts[:num_vectors]\n",
        "    \n",
        "    for i, text1 in enumerate(selected_texts):\n",
        "        vector1 = np.array(vector_db.vectors[text1])\n",
        "        print(f\"\\n�� Reference {i+1}: {text1[:60]}...\")\n",
        "        \n",
        "        for j, text2 in enumerate(selected_texts):\n",
        "            if i != j:  # Don't compare with itself\n",
        "                vector2 = np.array(vector_db.vectors[text2])\n",
        "                \n",
        "                euclidean = euclidean_distance(vector1, vector2)\n",
        "                manhattan = manhattan_distance(vector1, vector2)\n",
        "                dot_prod = dot_product_similarity(vector1, vector2)\n",
        "                cosine = cosine_similarity(vector1, vector2)\n",
        "                \n",
        "                print(f\"  vs {j+1}: Euclidean={euclidean:.4f}, Manhattan={manhattan:.4f}, Dot={dot_prod:.4f}, Cosine={cosine:.4f}\")\n",
        "\n",
        "# Run the comparison\n",
        "compare_multiple_vectors(vector_db, num_vectors=3)"
      ]
    },
    {
      "cell_type": "markdown",
      "metadata": {},
      "source": [
        "### ADD METADATA TO SPLITTED CHUNKS BEFORE CREATING `vector_db`"
      ]
    },
    {
      "cell_type": "code",
      "execution_count": 132,
      "metadata": {},
      "outputs": [],
      "source": [
        "def add_metadata_to_existing_chunks(split_documents, source_file, tags=None, file_dir=\"data\"):\n",
        "    \"\"\"\n",
        "    Add metadata to already-split document chunks.\n",
        "    \n",
        "    Args:\n",
        "        split_documents: Your existing split_documents list\n",
        "        source_file: Name of the source file\n",
        "        tags: List of tags/keywords\n",
        "    \n",
        "    Returns:\n",
        "        List of DocumentWithMetadata objects\n",
        "    \"\"\"\n",
        "    documents_with_metadata = []\n",
        "    \n",
        "    for i, text in enumerate(split_documents):  # ✅ Use existing chunks\n",
        "        metadata = {\n",
        "            \"chunk_index\": i,\n",
        "            \"source_file\": source_file,\n",
        "            \"file_type\": \"pdf\" if source_file.lower().endswith('.pdf') else \"txt\",\n",
        "            \"file_keywords\": tags or [\"general\", \"document\"],\n",
        "            \"file_date\": datetime.datetime.now().strftime(\"%Y-%m-%d\"),\n",
        "            \"file_language\": \"English\",\n",
        "            \"file_encoding\": \"UTF-8\"\n",
        "        }\n",
        "        \n",
        "        doc = DocumentWithMetadata(text=text, metadata=metadata)\n",
        "        documents_with_metadata.append(doc)\n",
        "    \n",
        "    print(f\"Added metadata to {len(documents_with_metadata)} existing chunks\")\n",
        "    return documents_with_metadata"
      ]
    },
    {
      "cell_type": "code",
      "execution_count": 133,
      "metadata": {},
      "outputs": [
        {
          "ename": "NameError",
          "evalue": "name 'DocumentWithMetadata' is not defined",
          "output_type": "error",
          "traceback": [
            "\u001b[0;31m---------------------------------------------------------------------------\u001b[0m",
            "\u001b[0;31mNameError\u001b[0m                                 Traceback (most recent call last)",
            "Cell \u001b[0;32mIn[133], line 1\u001b[0m\n\u001b[0;32m----> 1\u001b[0m documents_with_metadata \u001b[38;5;241m=\u001b[39m add_metadata_to_existing_chunks(\n\u001b[1;32m      2\u001b[0m     split_documents,\n\u001b[1;32m      3\u001b[0m     source_file\u001b[38;5;241m=\u001b[39mpdf_filename,  \u001b[38;5;66;03m# Just the filename\u001b[39;00m\n\u001b[1;32m      4\u001b[0m     tags\u001b[38;5;241m=\u001b[39m[\u001b[38;5;124m\"\u001b[39m\u001b[38;5;124mIllusion of Thinking\u001b[39m\u001b[38;5;124m\"\u001b[39m, \u001b[38;5;124m\"\u001b[39m\u001b[38;5;124mLarge Reasoning Models\u001b[39m\u001b[38;5;124m\"\u001b[39m, \u001b[38;5;124m\"\u001b[39m\u001b[38;5;124mLLMs\u001b[39m\u001b[38;5;124m\"\u001b[39m, \u001b[38;5;124m\"\u001b[39m\u001b[38;5;124mRLMs\u001b[39m\u001b[38;5;124m\"\u001b[39m, \u001b[38;5;124m\"\u001b[39m\u001b[38;5;124mProblem Complexity\u001b[39m\u001b[38;5;124m\"\u001b[39m, \u001b[38;5;124m\"\u001b[39m\u001b[38;5;124mReasoning Models\u001b[39m\u001b[38;5;124m\"\u001b[39m, \u001b[38;5;124m\"\u001b[39m\u001b[38;5;124mAI\u001b[39m\u001b[38;5;124m\"\u001b[39m, \u001b[38;5;124m\"\u001b[39m\u001b[38;5;124mResearch\u001b[39m\u001b[38;5;124m\"\u001b[39m],\n\u001b[1;32m      5\u001b[0m     file_dir\u001b[38;5;241m=\u001b[39m\u001b[38;5;124m\"\u001b[39m\u001b[38;5;124mdata\u001b[39m\u001b[38;5;124m\"\u001b[39m  \u001b[38;5;66;03m# Specify directory here\u001b[39;00m\n\u001b[1;32m      6\u001b[0m )\n",
            "Cell \u001b[0;32mIn[132], line 26\u001b[0m, in \u001b[0;36madd_metadata_to_existing_chunks\u001b[0;34m(split_documents, source_file, tags, file_dir)\u001b[0m\n\u001b[1;32m     15\u001b[0m \u001b[38;5;28;01mfor\u001b[39;00m i, text \u001b[38;5;129;01min\u001b[39;00m \u001b[38;5;28menumerate\u001b[39m(split_documents):  \u001b[38;5;66;03m# ✅ Use existing chunks\u001b[39;00m\n\u001b[1;32m     16\u001b[0m     metadata \u001b[38;5;241m=\u001b[39m {\n\u001b[1;32m     17\u001b[0m         \u001b[38;5;124m\"\u001b[39m\u001b[38;5;124mchunk_index\u001b[39m\u001b[38;5;124m\"\u001b[39m: i,\n\u001b[1;32m     18\u001b[0m         \u001b[38;5;124m\"\u001b[39m\u001b[38;5;124msource_file\u001b[39m\u001b[38;5;124m\"\u001b[39m: source_file,\n\u001b[0;32m   (...)\u001b[0m\n\u001b[1;32m     23\u001b[0m         \u001b[38;5;124m\"\u001b[39m\u001b[38;5;124mfile_encoding\u001b[39m\u001b[38;5;124m\"\u001b[39m: \u001b[38;5;124m\"\u001b[39m\u001b[38;5;124mUTF-8\u001b[39m\u001b[38;5;124m\"\u001b[39m\n\u001b[1;32m     24\u001b[0m     }\n\u001b[0;32m---> 26\u001b[0m     doc \u001b[38;5;241m=\u001b[39m DocumentWithMetadata(text\u001b[38;5;241m=\u001b[39mtext, metadata\u001b[38;5;241m=\u001b[39mmetadata)\n\u001b[1;32m     27\u001b[0m     documents_with_metadata\u001b[38;5;241m.\u001b[39mappend(doc)\n\u001b[1;32m     29\u001b[0m \u001b[38;5;28mprint\u001b[39m(\u001b[38;5;124mf\u001b[39m\u001b[38;5;124m\"\u001b[39m\u001b[38;5;124mAdded metadata to \u001b[39m\u001b[38;5;132;01m{\u001b[39;00m\u001b[38;5;28mlen\u001b[39m(documents_with_metadata)\u001b[38;5;132;01m}\u001b[39;00m\u001b[38;5;124m existing chunks\u001b[39m\u001b[38;5;124m\"\u001b[39m)\n",
            "\u001b[0;31mNameError\u001b[0m: name 'DocumentWithMetadata' is not defined"
          ]
        }
      ],
      "source": [
        "documents_with_metadata = add_metadata_to_existing_chunks(\n",
        "    split_documents,\n",
        "    source_file=pdf_filename,  # Just the filename\n",
        "    tags=[\"Illusion of Thinking\", \"Large Reasoning Models\", \"LLMs\", \"RLMs\", \"Problem Complexity\", \"Reasoning Models\", \"AI\", \"Research\"],\n",
        "    file_dir=\"data\"  # Specify directory here\n",
        ")"
      ]
    },
    {
      "cell_type": "code",
      "execution_count": null,
      "metadata": {},
      "outputs": [],
      "source": [
        "import os\n",
        "import openai\n",
        "# from getpass import getpass\n",
        "from dotenv import load_dotenv\n",
        "\n",
        "load_dotenv()\n",
        "openai.api_key = os.getenv(\"OPENAI_API_KEY\")\n",
        "# openai.api_key = getpass(\"OpenAI API Key: \")\n",
        "# os.environ[\"OPENAI_API_KEY\"] = openai.api_key"
      ]
    },
    {
      "cell_type": "code",
      "execution_count": null,
      "metadata": {},
      "outputs": [],
      "source": [
        "import os\n",
        "import openai\n",
        "# from getpass import getpass\n",
        "from dotenv import load_dotenv\n",
        "\n",
        "load_dotenv()\n",
        "openai.api_key = os.getenv(\"OPENAI_API_KEY\")\n",
        "# openai.api_key = getpass(\"OpenAI API Key: \")\n",
        "# os.environ[\"OPENAI_API_KEY\"] = openai.api_key"
      ]
    }
  ],
  "metadata": {
    "colab": {
      "provenance": []
    },
    "kernelspec": {
      "display_name": "base",
      "language": "python",
      "name": "python3"
    },
    "language_info": {
      "codemirror_mode": {
        "name": "ipython",
        "version": 3
      },
      "file_extension": ".py",
      "mimetype": "text/x-python",
      "name": "python",
      "nbconvert_exporter": "python",
      "pygments_lexer": "ipython3",
      "version": "3.12.7"
    },
    "orig_nbformat": 4,
    "widgets": {
      "application/vnd.jupyter.widget-state+json": {
        "1ce393d9afcf427d9d352259c5d32678": {
          "model_module": "@jupyter-widgets/controls",
          "model_module_version": "1.5.0",
          "model_name": "FloatProgressModel",
          "state": {
            "_dom_classes": [],
            "_model_module": "@jupyter-widgets/controls",
            "_model_module_version": "1.5.0",
            "_model_name": "FloatProgressModel",
            "_view_count": null,
            "_view_module": "@jupyter-widgets/controls",
            "_view_module_version": "1.5.0",
            "_view_name": "ProgressView",
            "bar_style": "",
            "description": "",
            "description_tooltip": null,
            "layout": "IPY_MODEL_4e6efd99f7d346e485b002fb0fa85cc7",
            "max": 1,
            "min": 0,
            "orientation": "horizontal",
            "style": "IPY_MODEL_3dfb67c39958461da6071e4c19c3fa41",
            "value": 1
          }
        },
        "3a4ba348cb004f8ab7b2b1395539c81b": {
          "model_module": "@jupyter-widgets/controls",
          "model_module_version": "1.5.0",
          "model_name": "LabelModel",
          "state": {
            "_dom_classes": [],
            "_model_module": "@jupyter-widgets/controls",
            "_model_module_version": "1.5.0",
            "_model_name": "LabelModel",
            "_view_count": null,
            "_view_module": "@jupyter-widgets/controls",
            "_view_module_version": "1.5.0",
            "_view_name": "LabelView",
            "description": "",
            "description_tooltip": null,
            "layout": "IPY_MODEL_d2ea5009dd16442cb5d8a0ac468e50a8",
            "placeholder": "​",
            "style": "IPY_MODEL_5f00135fe1044051a50ee5e841cbb8e3",
            "value": "0.018 MB of 0.018 MB uploaded\r"
          }
        },
        "3dfb67c39958461da6071e4c19c3fa41": {
          "model_module": "@jupyter-widgets/controls",
          "model_module_version": "1.5.0",
          "model_name": "ProgressStyleModel",
          "state": {
            "_model_module": "@jupyter-widgets/controls",
            "_model_module_version": "1.5.0",
            "_model_name": "ProgressStyleModel",
            "_view_count": null,
            "_view_module": "@jupyter-widgets/base",
            "_view_module_version": "1.2.0",
            "_view_name": "StyleView",
            "bar_color": null,
            "description_width": ""
          }
        },
        "4e6efd99f7d346e485b002fb0fa85cc7": {
          "model_module": "@jupyter-widgets/base",
          "model_module_version": "1.2.0",
          "model_name": "LayoutModel",
          "state": {
            "_model_module": "@jupyter-widgets/base",
            "_model_module_version": "1.2.0",
            "_model_name": "LayoutModel",
            "_view_count": null,
            "_view_module": "@jupyter-widgets/base",
            "_view_module_version": "1.2.0",
            "_view_name": "LayoutView",
            "align_content": null,
            "align_items": null,
            "align_self": null,
            "border": null,
            "bottom": null,
            "display": null,
            "flex": null,
            "flex_flow": null,
            "grid_area": null,
            "grid_auto_columns": null,
            "grid_auto_flow": null,
            "grid_auto_rows": null,
            "grid_column": null,
            "grid_gap": null,
            "grid_row": null,
            "grid_template_areas": null,
            "grid_template_columns": null,
            "grid_template_rows": null,
            "height": null,
            "justify_content": null,
            "justify_items": null,
            "left": null,
            "margin": null,
            "max_height": null,
            "max_width": null,
            "min_height": null,
            "min_width": null,
            "object_fit": null,
            "object_position": null,
            "order": null,
            "overflow": null,
            "overflow_x": null,
            "overflow_y": null,
            "padding": null,
            "right": null,
            "top": null,
            "visibility": null,
            "width": null
          }
        },
        "56a8e24025594e5e9ff3b8581c344691": {
          "model_module": "@jupyter-widgets/base",
          "model_module_version": "1.2.0",
          "model_name": "LayoutModel",
          "state": {
            "_model_module": "@jupyter-widgets/base",
            "_model_module_version": "1.2.0",
            "_model_name": "LayoutModel",
            "_view_count": null,
            "_view_module": "@jupyter-widgets/base",
            "_view_module_version": "1.2.0",
            "_view_name": "LayoutView",
            "align_content": null,
            "align_items": null,
            "align_self": null,
            "border": null,
            "bottom": null,
            "display": null,
            "flex": null,
            "flex_flow": null,
            "grid_area": null,
            "grid_auto_columns": null,
            "grid_auto_flow": null,
            "grid_auto_rows": null,
            "grid_column": null,
            "grid_gap": null,
            "grid_row": null,
            "grid_template_areas": null,
            "grid_template_columns": null,
            "grid_template_rows": null,
            "height": null,
            "justify_content": null,
            "justify_items": null,
            "left": null,
            "margin": null,
            "max_height": null,
            "max_width": null,
            "min_height": null,
            "min_width": null,
            "object_fit": null,
            "object_position": null,
            "order": null,
            "overflow": null,
            "overflow_x": null,
            "overflow_y": null,
            "padding": null,
            "right": null,
            "top": null,
            "visibility": null,
            "width": null
          }
        },
        "5f00135fe1044051a50ee5e841cbb8e3": {
          "model_module": "@jupyter-widgets/controls",
          "model_module_version": "1.5.0",
          "model_name": "DescriptionStyleModel",
          "state": {
            "_model_module": "@jupyter-widgets/controls",
            "_model_module_version": "1.5.0",
            "_model_name": "DescriptionStyleModel",
            "_view_count": null,
            "_view_module": "@jupyter-widgets/base",
            "_view_module_version": "1.2.0",
            "_view_name": "StyleView",
            "description_width": ""
          }
        },
        "bb904e05ece143c79ecc4f20de482f45": {
          "model_module": "@jupyter-widgets/controls",
          "model_module_version": "1.5.0",
          "model_name": "VBoxModel",
          "state": {
            "_dom_classes": [],
            "_model_module": "@jupyter-widgets/controls",
            "_model_module_version": "1.5.0",
            "_model_name": "VBoxModel",
            "_view_count": null,
            "_view_module": "@jupyter-widgets/controls",
            "_view_module_version": "1.5.0",
            "_view_name": "VBoxView",
            "box_style": "",
            "children": [
              "IPY_MODEL_3a4ba348cb004f8ab7b2b1395539c81b",
              "IPY_MODEL_1ce393d9afcf427d9d352259c5d32678"
            ],
            "layout": "IPY_MODEL_56a8e24025594e5e9ff3b8581c344691"
          }
        },
        "d2ea5009dd16442cb5d8a0ac468e50a8": {
          "model_module": "@jupyter-widgets/base",
          "model_module_version": "1.2.0",
          "model_name": "LayoutModel",
          "state": {
            "_model_module": "@jupyter-widgets/base",
            "_model_module_version": "1.2.0",
            "_model_name": "LayoutModel",
            "_view_count": null,
            "_view_module": "@jupyter-widgets/base",
            "_view_module_version": "1.2.0",
            "_view_name": "LayoutView",
            "align_content": null,
            "align_items": null,
            "align_self": null,
            "border": null,
            "bottom": null,
            "display": null,
            "flex": null,
            "flex_flow": null,
            "grid_area": null,
            "grid_auto_columns": null,
            "grid_auto_flow": null,
            "grid_auto_rows": null,
            "grid_column": null,
            "grid_gap": null,
            "grid_row": null,
            "grid_template_areas": null,
            "grid_template_columns": null,
            "grid_template_rows": null,
            "height": null,
            "justify_content": null,
            "justify_items": null,
            "left": null,
            "margin": null,
            "max_height": null,
            "max_width": null,
            "min_height": null,
            "min_width": null,
            "object_fit": null,
            "object_position": null,
            "order": null,
            "overflow": null,
            "overflow_x": null,
            "overflow_y": null,
            "padding": null,
            "right": null,
            "top": null,
            "visibility": null,
            "width": null
          }
        }
      }
    }
  },
  "nbformat": 4,
  "nbformat_minor": 0
}
